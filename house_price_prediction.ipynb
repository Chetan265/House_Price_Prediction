{
 "cells": [
  {
   "cell_type": "code",
   "execution_count": 126,
   "metadata": {},
   "outputs": [],
   "source": [
    "# Importing necessary libraries\n",
    "import pandas as pd\n",
    "import numpy as np\n",
    "import seaborn as sb\n",
    "import warnings\n",
    "import matplotlib.pyplot as plt\n",
    "%matplotlib inline\n",
    "import warnings\n",
    "warnings.filterwarnings(\"ignore\")"
   ]
  },
  {
   "cell_type": "code",
   "execution_count": 127,
   "metadata": {},
   "outputs": [
    {
     "data": {
      "text/html": [
       "<div>\n",
       "<style scoped>\n",
       "    .dataframe tbody tr th:only-of-type {\n",
       "        vertical-align: middle;\n",
       "    }\n",
       "\n",
       "    .dataframe tbody tr th {\n",
       "        vertical-align: top;\n",
       "    }\n",
       "\n",
       "    .dataframe thead th {\n",
       "        text-align: right;\n",
       "    }\n",
       "</style>\n",
       "<table border=\"1\" class=\"dataframe\">\n",
       "  <thead>\n",
       "    <tr style=\"text-align: right;\">\n",
       "      <th></th>\n",
       "      <th>longitude</th>\n",
       "      <th>latitude</th>\n",
       "      <th>housing_median_age</th>\n",
       "      <th>total_rooms</th>\n",
       "      <th>total_bedrooms</th>\n",
       "      <th>population</th>\n",
       "      <th>households</th>\n",
       "      <th>median_income</th>\n",
       "      <th>ocean_proximity</th>\n",
       "      <th>median_house_value</th>\n",
       "    </tr>\n",
       "  </thead>\n",
       "  <tbody>\n",
       "    <tr>\n",
       "      <th>0</th>\n",
       "      <td>-122.23</td>\n",
       "      <td>37.88</td>\n",
       "      <td>41</td>\n",
       "      <td>880</td>\n",
       "      <td>129.0</td>\n",
       "      <td>322</td>\n",
       "      <td>126</td>\n",
       "      <td>8.3252</td>\n",
       "      <td>NEAR BAY</td>\n",
       "      <td>452600</td>\n",
       "    </tr>\n",
       "    <tr>\n",
       "      <th>1</th>\n",
       "      <td>-122.22</td>\n",
       "      <td>37.86</td>\n",
       "      <td>21</td>\n",
       "      <td>7099</td>\n",
       "      <td>1106.0</td>\n",
       "      <td>2401</td>\n",
       "      <td>1138</td>\n",
       "      <td>8.3014</td>\n",
       "      <td>NEAR BAY</td>\n",
       "      <td>358500</td>\n",
       "    </tr>\n",
       "    <tr>\n",
       "      <th>2</th>\n",
       "      <td>-122.24</td>\n",
       "      <td>37.85</td>\n",
       "      <td>52</td>\n",
       "      <td>1467</td>\n",
       "      <td>190.0</td>\n",
       "      <td>496</td>\n",
       "      <td>177</td>\n",
       "      <td>7.2574</td>\n",
       "      <td>NEAR BAY</td>\n",
       "      <td>352100</td>\n",
       "    </tr>\n",
       "    <tr>\n",
       "      <th>3</th>\n",
       "      <td>-122.25</td>\n",
       "      <td>37.85</td>\n",
       "      <td>52</td>\n",
       "      <td>1274</td>\n",
       "      <td>235.0</td>\n",
       "      <td>558</td>\n",
       "      <td>219</td>\n",
       "      <td>5.6431</td>\n",
       "      <td>NEAR BAY</td>\n",
       "      <td>341300</td>\n",
       "    </tr>\n",
       "    <tr>\n",
       "      <th>4</th>\n",
       "      <td>-122.25</td>\n",
       "      <td>37.85</td>\n",
       "      <td>52</td>\n",
       "      <td>1627</td>\n",
       "      <td>280.0</td>\n",
       "      <td>565</td>\n",
       "      <td>259</td>\n",
       "      <td>3.8462</td>\n",
       "      <td>NEAR BAY</td>\n",
       "      <td>342200</td>\n",
       "    </tr>\n",
       "  </tbody>\n",
       "</table>\n",
       "</div>"
      ],
      "text/plain": [
       "   longitude  latitude  housing_median_age  total_rooms  total_bedrooms  \\\n",
       "0    -122.23     37.88                  41          880           129.0   \n",
       "1    -122.22     37.86                  21         7099          1106.0   \n",
       "2    -122.24     37.85                  52         1467           190.0   \n",
       "3    -122.25     37.85                  52         1274           235.0   \n",
       "4    -122.25     37.85                  52         1627           280.0   \n",
       "\n",
       "   population  households  median_income ocean_proximity  median_house_value  \n",
       "0         322         126         8.3252        NEAR BAY              452600  \n",
       "1        2401        1138         8.3014        NEAR BAY              358500  \n",
       "2         496         177         7.2574        NEAR BAY              352100  \n",
       "3         558         219         5.6431        NEAR BAY              341300  \n",
       "4         565         259         3.8462        NEAR BAY              342200  "
      ]
     },
     "execution_count": 127,
     "metadata": {},
     "output_type": "execute_result"
    }
   ],
   "source": [
    "# Importing dataset as df\n",
    "df = pd.read_csv(\"housing.csv\")\n",
    "df.head()"
   ]
  },
  {
   "cell_type": "code",
   "execution_count": 128,
   "metadata": {},
   "outputs": [
    {
     "data": {
      "text/plain": [
       "(20640, 10)"
      ]
     },
     "execution_count": 128,
     "metadata": {},
     "output_type": "execute_result"
    }
   ],
   "source": [
    "df.shape"
   ]
  },
  {
   "cell_type": "code",
   "execution_count": 129,
   "metadata": {},
   "outputs": [
    {
     "data": {
      "text/html": [
       "<div>\n",
       "<style scoped>\n",
       "    .dataframe tbody tr th:only-of-type {\n",
       "        vertical-align: middle;\n",
       "    }\n",
       "\n",
       "    .dataframe tbody tr th {\n",
       "        vertical-align: top;\n",
       "    }\n",
       "\n",
       "    .dataframe thead th {\n",
       "        text-align: right;\n",
       "    }\n",
       "</style>\n",
       "<table border=\"1\" class=\"dataframe\">\n",
       "  <thead>\n",
       "    <tr style=\"text-align: right;\">\n",
       "      <th></th>\n",
       "      <th>longitude</th>\n",
       "      <th>latitude</th>\n",
       "      <th>housing_median_age</th>\n",
       "      <th>total_rooms</th>\n",
       "      <th>total_bedrooms</th>\n",
       "      <th>population</th>\n",
       "      <th>households</th>\n",
       "      <th>median_income</th>\n",
       "      <th>median_house_value</th>\n",
       "    </tr>\n",
       "  </thead>\n",
       "  <tbody>\n",
       "    <tr>\n",
       "      <th>count</th>\n",
       "      <td>20640.000000</td>\n",
       "      <td>20640.000000</td>\n",
       "      <td>20640.000000</td>\n",
       "      <td>20640.000000</td>\n",
       "      <td>20433.000000</td>\n",
       "      <td>20640.000000</td>\n",
       "      <td>20640.000000</td>\n",
       "      <td>20640.000000</td>\n",
       "      <td>20640.000000</td>\n",
       "    </tr>\n",
       "    <tr>\n",
       "      <th>mean</th>\n",
       "      <td>-119.569704</td>\n",
       "      <td>35.631861</td>\n",
       "      <td>28.639486</td>\n",
       "      <td>2635.763081</td>\n",
       "      <td>537.870553</td>\n",
       "      <td>1425.476744</td>\n",
       "      <td>499.539680</td>\n",
       "      <td>3.870671</td>\n",
       "      <td>206855.816909</td>\n",
       "    </tr>\n",
       "    <tr>\n",
       "      <th>std</th>\n",
       "      <td>2.003532</td>\n",
       "      <td>2.135952</td>\n",
       "      <td>12.585558</td>\n",
       "      <td>2181.615252</td>\n",
       "      <td>421.385070</td>\n",
       "      <td>1132.462122</td>\n",
       "      <td>382.329753</td>\n",
       "      <td>1.899822</td>\n",
       "      <td>115395.615874</td>\n",
       "    </tr>\n",
       "    <tr>\n",
       "      <th>min</th>\n",
       "      <td>-124.350000</td>\n",
       "      <td>32.540000</td>\n",
       "      <td>1.000000</td>\n",
       "      <td>2.000000</td>\n",
       "      <td>1.000000</td>\n",
       "      <td>3.000000</td>\n",
       "      <td>1.000000</td>\n",
       "      <td>0.499900</td>\n",
       "      <td>14999.000000</td>\n",
       "    </tr>\n",
       "    <tr>\n",
       "      <th>25%</th>\n",
       "      <td>-121.800000</td>\n",
       "      <td>33.930000</td>\n",
       "      <td>18.000000</td>\n",
       "      <td>1447.750000</td>\n",
       "      <td>296.000000</td>\n",
       "      <td>787.000000</td>\n",
       "      <td>280.000000</td>\n",
       "      <td>2.563400</td>\n",
       "      <td>119600.000000</td>\n",
       "    </tr>\n",
       "    <tr>\n",
       "      <th>50%</th>\n",
       "      <td>-118.490000</td>\n",
       "      <td>34.260000</td>\n",
       "      <td>29.000000</td>\n",
       "      <td>2127.000000</td>\n",
       "      <td>435.000000</td>\n",
       "      <td>1166.000000</td>\n",
       "      <td>409.000000</td>\n",
       "      <td>3.534800</td>\n",
       "      <td>179700.000000</td>\n",
       "    </tr>\n",
       "    <tr>\n",
       "      <th>75%</th>\n",
       "      <td>-118.010000</td>\n",
       "      <td>37.710000</td>\n",
       "      <td>37.000000</td>\n",
       "      <td>3148.000000</td>\n",
       "      <td>647.000000</td>\n",
       "      <td>1725.000000</td>\n",
       "      <td>605.000000</td>\n",
       "      <td>4.743250</td>\n",
       "      <td>264725.000000</td>\n",
       "    </tr>\n",
       "    <tr>\n",
       "      <th>max</th>\n",
       "      <td>-114.310000</td>\n",
       "      <td>41.950000</td>\n",
       "      <td>52.000000</td>\n",
       "      <td>39320.000000</td>\n",
       "      <td>6445.000000</td>\n",
       "      <td>35682.000000</td>\n",
       "      <td>6082.000000</td>\n",
       "      <td>15.000100</td>\n",
       "      <td>500001.000000</td>\n",
       "    </tr>\n",
       "  </tbody>\n",
       "</table>\n",
       "</div>"
      ],
      "text/plain": [
       "          longitude      latitude  housing_median_age   total_rooms  \\\n",
       "count  20640.000000  20640.000000        20640.000000  20640.000000   \n",
       "mean    -119.569704     35.631861           28.639486   2635.763081   \n",
       "std        2.003532      2.135952           12.585558   2181.615252   \n",
       "min     -124.350000     32.540000            1.000000      2.000000   \n",
       "25%     -121.800000     33.930000           18.000000   1447.750000   \n",
       "50%     -118.490000     34.260000           29.000000   2127.000000   \n",
       "75%     -118.010000     37.710000           37.000000   3148.000000   \n",
       "max     -114.310000     41.950000           52.000000  39320.000000   \n",
       "\n",
       "       total_bedrooms    population    households  median_income  \\\n",
       "count    20433.000000  20640.000000  20640.000000   20640.000000   \n",
       "mean       537.870553   1425.476744    499.539680       3.870671   \n",
       "std        421.385070   1132.462122    382.329753       1.899822   \n",
       "min          1.000000      3.000000      1.000000       0.499900   \n",
       "25%        296.000000    787.000000    280.000000       2.563400   \n",
       "50%        435.000000   1166.000000    409.000000       3.534800   \n",
       "75%        647.000000   1725.000000    605.000000       4.743250   \n",
       "max       6445.000000  35682.000000   6082.000000      15.000100   \n",
       "\n",
       "       median_house_value  \n",
       "count        20640.000000  \n",
       "mean        206855.816909  \n",
       "std         115395.615874  \n",
       "min          14999.000000  \n",
       "25%         119600.000000  \n",
       "50%         179700.000000  \n",
       "75%         264725.000000  \n",
       "max         500001.000000  "
      ]
     },
     "execution_count": 129,
     "metadata": {},
     "output_type": "execute_result"
    }
   ],
   "source": [
    "df.describe()"
   ]
  },
  {
   "cell_type": "code",
   "execution_count": 130,
   "metadata": {},
   "outputs": [
    {
     "name": "stdout",
     "output_type": "stream",
     "text": [
      "<class 'pandas.core.frame.DataFrame'>\n",
      "RangeIndex: 20640 entries, 0 to 20639\n",
      "Data columns (total 10 columns):\n",
      " #   Column              Non-Null Count  Dtype  \n",
      "---  ------              --------------  -----  \n",
      " 0   longitude           20640 non-null  float64\n",
      " 1   latitude            20640 non-null  float64\n",
      " 2   housing_median_age  20640 non-null  int64  \n",
      " 3   total_rooms         20640 non-null  int64  \n",
      " 4   total_bedrooms      20433 non-null  float64\n",
      " 5   population          20640 non-null  int64  \n",
      " 6   households          20640 non-null  int64  \n",
      " 7   median_income       20640 non-null  float64\n",
      " 8   ocean_proximity     20640 non-null  object \n",
      " 9   median_house_value  20640 non-null  int64  \n",
      "dtypes: float64(4), int64(5), object(1)\n",
      "memory usage: 1.6+ MB\n"
     ]
    }
   ],
   "source": [
    "df.info()"
   ]
  },
  {
   "cell_type": "code",
   "execution_count": 131,
   "metadata": {},
   "outputs": [
    {
     "data": {
      "text/plain": [
       "<AxesSubplot:>"
      ]
     },
     "execution_count": 131,
     "metadata": {},
     "output_type": "execute_result"
    },
    {
     "data": {
      "image/png": "[encoded data removed]",
      "text/plain": [
       "<Figure size 432x288 with 2 Axes>"
      ]
     },
     "metadata": {
      "needs_background": "light"
     },
     "output_type": "display_data"
    }
   ],
   "source": [
    "sb.heatmap(df.isnull(),cbar = True)"
   ]
  },
  {
   "cell_type": "code",
   "execution_count": 132,
   "metadata": {},
   "outputs": [],
   "source": [
    "#Null value treatment\n",
    "df.total_bedrooms = df.total_bedrooms.fillna(df.total_bedrooms.mean())"
   ]
  },
  {
   "cell_type": "code",
   "execution_count": 133,
   "metadata": {},
   "outputs": [
    {
     "name": "stdout",
     "output_type": "stream",
     "text": [
      "<class 'pandas.core.frame.DataFrame'>\n",
      "RangeIndex: 20640 entries, 0 to 20639\n",
      "Data columns (total 10 columns):\n",
      " #   Column              Non-Null Count  Dtype  \n",
      "---  ------              --------------  -----  \n",
      " 0   longitude           20640 non-null  float64\n",
      " 1   latitude            20640 non-null  float64\n",
      " 2   housing_median_age  20640 non-null  int64  \n",
      " 3   total_rooms         20640 non-null  int64  \n",
      " 4   total_bedrooms      20640 non-null  float64\n",
      " 5   population          20640 non-null  int64  \n",
      " 6   households          20640 non-null  int64  \n",
      " 7   median_income       20640 non-null  float64\n",
      " 8   ocean_proximity     20640 non-null  object \n",
      " 9   median_house_value  20640 non-null  int64  \n",
      "dtypes: float64(4), int64(5), object(1)\n",
      "memory usage: 1.6+ MB\n"
     ]
    }
   ],
   "source": [
    "df.info()"
   ]
  },
  {
   "cell_type": "code",
   "execution_count": 134,
   "metadata": {},
   "outputs": [
    {
     "data": {
      "text/plain": [
       "<AxesSubplot:ylabel='ocean_proximity'>"
      ]
     },
     "execution_count": 134,
     "metadata": {},
     "output_type": "execute_result"
    },
    {
     "data": {
      "image/png": "[encoded data removed]",
      "text/plain": [
       "<Figure size 720x1080 with 1 Axes>"
      ]
     },
     "metadata": {},
     "output_type": "display_data"
    }
   ],
   "source": [
    "df[\"ocean_proximity\"].value_counts().plot.pie(figsize = (10,15),autopct = \"%.2f\" ,fontsize = 8)"
   ]
  },
  {
   "cell_type": "code",
   "execution_count": 135,
   "metadata": {},
   "outputs": [
    {
     "data": {
      "image/png": "[encoded data removed]",
      "text/plain": [
       "<Figure size 936x216 with 2 Axes>"
      ]
     },
     "metadata": {
      "needs_background": "light"
     },
     "output_type": "display_data"
    },
    {
     "data": {
      "image/png": "[encoded data removed]",
      "text/plain": [
       "<Figure size 936x216 with 2 Axes>"
      ]
     },
     "metadata": {
      "needs_background": "light"
     },
     "output_type": "display_data"
    },
    {
     "data": {
      "image/png": "[encoded data removed]",
      "text/plain": [
       "<Figure size 936x216 with 2 Axes>"
      ]
     },
     "metadata": {
      "needs_background": "light"
     },
     "output_type": "display_data"
    },
    {
     "data": {
      "image/png": "[encoded data removed]",
      "text/plain": [
       "<Figure size 936x216 with 2 Axes>"
      ]
     },
     "metadata": {
      "needs_background": "light"
     },
     "output_type": "display_data"
    }
   ],
   "source": [
    "# representation of numerical variables by boxplot\n",
    "num_cols = [\"housing_median_age\",\"total_rooms\",\"total_bedrooms\",\"population\",\"households\",\"median_income\",\"median_house_value\",\"housing_median_age\"]\n",
    "i=0\n",
    "while i < 8:\n",
    "    fig = plt.figure(figsize=[13,3])\n",
    "    #ax1 = fig.add_subplot(121)\n",
    "    #ax2 = fig.add_subplot(122)\n",
    "    \n",
    "    \n",
    "    #ax1.title.set_text(num_cols[i])\n",
    "    plt.subplot(1,2,1)\n",
    "    sb.boxplot(x=num_cols[i], data=df)\n",
    "    i += 1\n",
    "    \n",
    "    #ax2.title.set_text(num_cols[i])\n",
    "    plt.subplot(1,2,2)\n",
    "    sb.boxplot(x=num_cols[i], data=df)\n",
    "    i += 1\n",
    "    \n",
    "    plt.show()"
   ]
  },
  {
   "cell_type": "code",
   "execution_count": 136,
   "metadata": {},
   "outputs": [],
   "source": [
    "df[\"rooms\"] = df.total_rooms+df.total_bedrooms\n",
    "df1 = df.drop(columns = [\"total_rooms\",\"total_bedrooms\"])\n",
    "df = df1"
   ]
  },
  {
   "cell_type": "code",
   "execution_count": 137,
   "metadata": {},
   "outputs": [
    {
     "name": "stdout",
     "output_type": "stream",
     "text": [
      "<class 'pandas.core.frame.DataFrame'>\n",
      "RangeIndex: 20640 entries, 0 to 20639\n",
      "Data columns (total 9 columns):\n",
      " #   Column              Non-Null Count  Dtype  \n",
      "---  ------              --------------  -----  \n",
      " 0   longitude           20640 non-null  float64\n",
      " 1   latitude            20640 non-null  float64\n",
      " 2   housing_median_age  20640 non-null  int64  \n",
      " 3   population          20640 non-null  int64  \n",
      " 4   households          20640 non-null  int64  \n",
      " 5   median_income       20640 non-null  float64\n",
      " 6   ocean_proximity     20640 non-null  object \n",
      " 7   median_house_value  20640 non-null  int64  \n",
      " 8   rooms               20640 non-null  float64\n",
      "dtypes: float64(4), int64(4), object(1)\n",
      "memory usage: 1.4+ MB\n"
     ]
    }
   ],
   "source": [
    "df.info()"
   ]
  },
  {
   "cell_type": "code",
   "execution_count": 138,
   "metadata": {},
   "outputs": [
    {
     "data": {
      "text/plain": [
       "<seaborn.axisgrid.JointGrid at 0x1eec46a4580>"
      ]
     },
     "execution_count": 138,
     "metadata": {},
     "output_type": "execute_result"
    },
    {
     "data": {
      "image/png": "[encoded data removed]",
      "text/plain": [
       "<Figure size 432x432 with 3 Axes>"
      ]
     },
     "metadata": {
      "needs_background": "light"
     },
     "output_type": "display_data"
    }
   ],
   "source": [
    "# Representing the area by scatter plot with respect to ocean_proximity\n",
    "sb.jointplot(x = \"longitude\",y = \"latitude\",hue = \"ocean_proximity\",data = df)"
   ]
  },
  {
   "cell_type": "code",
   "execution_count": 139,
   "metadata": {},
   "outputs": [
    {
     "data": {
      "image/png": "[encoded data removed]",
      "text/plain": [
       "<Figure size 432x288 with 2 Axes>"
      ]
     },
     "metadata": {
      "needs_background": "light"
     },
     "output_type": "display_data"
    }
   ],
   "source": [
    "#heat map for correlation between variables\n",
    "sb.heatmap(df.corr(), annot=True, cmap=\"RdBu\",linewidths=0.5)\n",
    "plt.show()"
   ]
  },
  {
   "cell_type": "markdown",
   "metadata": {},
   "source": [
    "1. median_house_value and median_income are positively correlated\n",
    "2. households and rooms are highly positively correlated.\n",
    "3. population and rooms are highly postively correlated.\n",
    "4. households and population are hihgly positively correlated."
   ]
  },
  {
   "cell_type": "code",
   "execution_count": 140,
   "metadata": {},
   "outputs": [
    {
     "name": "stdout",
     "output_type": "stream",
     "text": [
      "<class 'pandas.core.frame.DataFrame'>\n",
      "RangeIndex: 20640 entries, 0 to 20639\n",
      "Data columns (total 12 columns):\n",
      " #   Column                      Non-Null Count  Dtype  \n",
      "---  ------                      --------------  -----  \n",
      " 0   longitude                   20640 non-null  float64\n",
      " 1   latitude                    20640 non-null  float64\n",
      " 2   housing_median_age          20640 non-null  int64  \n",
      " 3   population                  20640 non-null  int64  \n",
      " 4   households                  20640 non-null  int64  \n",
      " 5   median_income               20640 non-null  float64\n",
      " 6   median_house_value          20640 non-null  int64  \n",
      " 7   rooms                       20640 non-null  float64\n",
      " 8   ocean_proximity_INLAND      20640 non-null  uint8  \n",
      " 9   ocean_proximity_ISLAND      20640 non-null  uint8  \n",
      " 10  ocean_proximity_NEAR BAY    20640 non-null  uint8  \n",
      " 11  ocean_proximity_NEAR OCEAN  20640 non-null  uint8  \n",
      "dtypes: float64(4), int64(4), uint8(4)\n",
      "memory usage: 1.3 MB\n"
     ]
    }
   ],
   "source": [
    "df = pd.get_dummies(df,drop_first = True)\n",
    "df.info()"
   ]
  },
  {
   "cell_type": "code",
   "execution_count": 141,
   "metadata": {},
   "outputs": [
    {
     "data": {
      "text/html": [
       "<div>\n",
       "<style scoped>\n",
       "    .dataframe tbody tr th:only-of-type {\n",
       "        vertical-align: middle;\n",
       "    }\n",
       "\n",
       "    .dataframe tbody tr th {\n",
       "        vertical-align: top;\n",
       "    }\n",
       "\n",
       "    .dataframe thead th {\n",
       "        text-align: right;\n",
       "    }\n",
       "</style>\n",
       "<table border=\"1\" class=\"dataframe\">\n",
       "  <thead>\n",
       "    <tr style=\"text-align: right;\">\n",
       "      <th></th>\n",
       "      <th>longitude</th>\n",
       "      <th>latitude</th>\n",
       "      <th>housing_median_age</th>\n",
       "      <th>population</th>\n",
       "      <th>households</th>\n",
       "      <th>median_income</th>\n",
       "      <th>median_house_value</th>\n",
       "      <th>rooms</th>\n",
       "      <th>ocean_proximity_INLAND</th>\n",
       "      <th>ocean_proximity_ISLAND</th>\n",
       "      <th>ocean_proximity_NEAR BAY</th>\n",
       "      <th>ocean_proximity_NEAR OCEAN</th>\n",
       "    </tr>\n",
       "  </thead>\n",
       "  <tbody>\n",
       "    <tr>\n",
       "      <th>count</th>\n",
       "      <td>20640.000000</td>\n",
       "      <td>20640.000000</td>\n",
       "      <td>20640.000000</td>\n",
       "      <td>20640.000000</td>\n",
       "      <td>20640.000000</td>\n",
       "      <td>20640.000000</td>\n",
       "      <td>20640.000000</td>\n",
       "      <td>20640.000000</td>\n",
       "      <td>20640.000000</td>\n",
       "      <td>20640.000000</td>\n",
       "      <td>20640.000000</td>\n",
       "      <td>20640.000000</td>\n",
       "    </tr>\n",
       "    <tr>\n",
       "      <th>mean</th>\n",
       "      <td>-119.569704</td>\n",
       "      <td>35.631861</td>\n",
       "      <td>28.639486</td>\n",
       "      <td>1425.476744</td>\n",
       "      <td>499.539680</td>\n",
       "      <td>3.870671</td>\n",
       "      <td>206855.816909</td>\n",
       "      <td>3173.633634</td>\n",
       "      <td>0.317393</td>\n",
       "      <td>0.000242</td>\n",
       "      <td>0.110950</td>\n",
       "      <td>0.128779</td>\n",
       "    </tr>\n",
       "    <tr>\n",
       "      <th>std</th>\n",
       "      <td>2.003532</td>\n",
       "      <td>2.135952</td>\n",
       "      <td>12.585558</td>\n",
       "      <td>1132.462122</td>\n",
       "      <td>382.329753</td>\n",
       "      <td>1.899822</td>\n",
       "      <td>115395.615874</td>\n",
       "      <td>2575.170984</td>\n",
       "      <td>0.465473</td>\n",
       "      <td>0.015563</td>\n",
       "      <td>0.314077</td>\n",
       "      <td>0.334963</td>\n",
       "    </tr>\n",
       "    <tr>\n",
       "      <th>min</th>\n",
       "      <td>-124.350000</td>\n",
       "      <td>32.540000</td>\n",
       "      <td>1.000000</td>\n",
       "      <td>3.000000</td>\n",
       "      <td>1.000000</td>\n",
       "      <td>0.499900</td>\n",
       "      <td>14999.000000</td>\n",
       "      <td>4.000000</td>\n",
       "      <td>0.000000</td>\n",
       "      <td>0.000000</td>\n",
       "      <td>0.000000</td>\n",
       "      <td>0.000000</td>\n",
       "    </tr>\n",
       "    <tr>\n",
       "      <th>25%</th>\n",
       "      <td>-121.800000</td>\n",
       "      <td>33.930000</td>\n",
       "      <td>18.000000</td>\n",
       "      <td>787.000000</td>\n",
       "      <td>280.000000</td>\n",
       "      <td>2.563400</td>\n",
       "      <td>119600.000000</td>\n",
       "      <td>1763.000000</td>\n",
       "      <td>0.000000</td>\n",
       "      <td>0.000000</td>\n",
       "      <td>0.000000</td>\n",
       "      <td>0.000000</td>\n",
       "    </tr>\n",
       "    <tr>\n",
       "      <th>50%</th>\n",
       "      <td>-118.490000</td>\n",
       "      <td>34.260000</td>\n",
       "      <td>29.000000</td>\n",
       "      <td>1166.000000</td>\n",
       "      <td>409.000000</td>\n",
       "      <td>3.534800</td>\n",
       "      <td>179700.000000</td>\n",
       "      <td>2579.000000</td>\n",
       "      <td>0.000000</td>\n",
       "      <td>0.000000</td>\n",
       "      <td>0.000000</td>\n",
       "      <td>0.000000</td>\n",
       "    </tr>\n",
       "    <tr>\n",
       "      <th>75%</th>\n",
       "      <td>-118.010000</td>\n",
       "      <td>37.710000</td>\n",
       "      <td>37.000000</td>\n",
       "      <td>1725.000000</td>\n",
       "      <td>605.000000</td>\n",
       "      <td>4.743250</td>\n",
       "      <td>264725.000000</td>\n",
       "      <td>3782.250000</td>\n",
       "      <td>1.000000</td>\n",
       "      <td>0.000000</td>\n",
       "      <td>0.000000</td>\n",
       "      <td>0.000000</td>\n",
       "    </tr>\n",
       "    <tr>\n",
       "      <th>max</th>\n",
       "      <td>-114.310000</td>\n",
       "      <td>41.950000</td>\n",
       "      <td>52.000000</td>\n",
       "      <td>35682.000000</td>\n",
       "      <td>6082.000000</td>\n",
       "      <td>15.000100</td>\n",
       "      <td>500001.000000</td>\n",
       "      <td>45530.000000</td>\n",
       "      <td>1.000000</td>\n",
       "      <td>1.000000</td>\n",
       "      <td>1.000000</td>\n",
       "      <td>1.000000</td>\n",
       "    </tr>\n",
       "  </tbody>\n",
       "</table>\n",
       "</div>"
      ],
      "text/plain": [
       "          longitude      latitude  housing_median_age    population  \\\n",
       "count  20640.000000  20640.000000        20640.000000  20640.000000   \n",
       "mean    -119.569704     35.631861           28.639486   1425.476744   \n",
       "std        2.003532      2.135952           12.585558   1132.462122   \n",
       "min     -124.350000     32.540000            1.000000      3.000000   \n",
       "25%     -121.800000     33.930000           18.000000    787.000000   \n",
       "50%     -118.490000     34.260000           29.000000   1166.000000   \n",
       "75%     -118.010000     37.710000           37.000000   1725.000000   \n",
       "max     -114.310000     41.950000           52.000000  35682.000000   \n",
       "\n",
       "         households  median_income  median_house_value         rooms  \\\n",
       "count  20640.000000   20640.000000        20640.000000  20640.000000   \n",
       "mean     499.539680       3.870671       206855.816909   3173.633634   \n",
       "std      382.329753       1.899822       115395.615874   2575.170984   \n",
       "min        1.000000       0.499900        14999.000000      4.000000   \n",
       "25%      280.000000       2.563400       119600.000000   1763.000000   \n",
       "50%      409.000000       3.534800       179700.000000   2579.000000   \n",
       "75%      605.000000       4.743250       264725.000000   3782.250000   \n",
       "max     6082.000000      15.000100       500001.000000  45530.000000   \n",
       "\n",
       "       ocean_proximity_INLAND  ocean_proximity_ISLAND  \\\n",
       "count            20640.000000            20640.000000   \n",
       "mean                 0.317393                0.000242   \n",
       "std                  0.465473                0.015563   \n",
       "min                  0.000000                0.000000   \n",
       "25%                  0.000000                0.000000   \n",
       "50%                  0.000000                0.000000   \n",
       "75%                  1.000000                0.000000   \n",
       "max                  1.000000                1.000000   \n",
       "\n",
       "       ocean_proximity_NEAR BAY  ocean_proximity_NEAR OCEAN  \n",
       "count              20640.000000                20640.000000  \n",
       "mean                   0.110950                    0.128779  \n",
       "std                    0.314077                    0.334963  \n",
       "min                    0.000000                    0.000000  \n",
       "25%                    0.000000                    0.000000  \n",
       "50%                    0.000000                    0.000000  \n",
       "75%                    0.000000                    0.000000  \n",
       "max                    1.000000                    1.000000  "
      ]
     },
     "execution_count": 141,
     "metadata": {},
     "output_type": "execute_result"
    }
   ],
   "source": [
    "df.describe()"
   ]
  },
  {
   "cell_type": "code",
   "execution_count": 142,
   "metadata": {},
   "outputs": [],
   "source": [
    "df1 = df.drop(columns = [\"longitude\",\"latitude\"])\n",
    "df = df1"
   ]
  },
  {
   "cell_type": "code",
   "execution_count": 143,
   "metadata": {},
   "outputs": [],
   "source": [
    "y = df['median_house_value']\n",
    "X =df.drop(columns = [\"median_house_value\"])"
   ]
  },
  {
   "cell_type": "code",
   "execution_count": 144,
   "metadata": {},
   "outputs": [],
   "source": [
    "from sklearn.model_selection import train_test_split"
   ]
  },
  {
   "cell_type": "code",
   "execution_count": 145,
   "metadata": {},
   "outputs": [],
   "source": [
    "X_train,X_test,y_train,y_test = train_test_split(X,y,test_size=0.2,random_state = 265)"
   ]
  },
  {
   "cell_type": "code",
   "execution_count": 146,
   "metadata": {},
   "outputs": [],
   "source": [
    "from sklearn.preprocessing import StandardScaler"
   ]
  },
  {
   "cell_type": "code",
   "execution_count": 22,
   "metadata": {},
   "outputs": [],
   "source": [
    "scaler = StandardScaler()\n",
    "X_train = scaler.fit_transform(X_train)\n",
    "X_test = scaler.transform(X_test)"
   ]
  },
  {
   "cell_type": "markdown",
   "metadata": {},
   "source": [
    "# Linear Regression"
   ]
  },
  {
   "cell_type": "code",
   "execution_count": 23,
   "metadata": {},
   "outputs": [],
   "source": [
    "from sklearn.linear_model import LinearRegression"
   ]
  },
  {
   "cell_type": "code",
   "execution_count": 24,
   "metadata": {},
   "outputs": [
    {
     "data": {
      "text/plain": [
       "LinearRegression()"
      ]
     },
     "execution_count": 24,
     "metadata": {},
     "output_type": "execute_result"
    }
   ],
   "source": [
    "lr = LinearRegression()\n",
    "lr.fit(X_train,y_train)"
   ]
  },
  {
   "cell_type": "code",
   "execution_count": 25,
   "metadata": {},
   "outputs": [],
   "source": [
    "y_pred = lr.predict(X_test)"
   ]
  },
  {
   "cell_type": "code",
   "execution_count": 26,
   "metadata": {},
   "outputs": [],
   "source": [
    "from sklearn.metrics import r2_score,mean_squared_error\n",
    "from math import sqrt"
   ]
  },
  {
   "cell_type": "code",
   "execution_count": 27,
   "metadata": {},
   "outputs": [
    {
     "data": {
      "text/plain": [
       "69905.43751090675"
      ]
     },
     "execution_count": 27,
     "metadata": {},
     "output_type": "execute_result"
    }
   ],
   "source": [
    "rmse = sqrt(mean_squared_error(y_test,y_pred))\n",
    "rmse"
   ]
  },
  {
   "cell_type": "code",
   "execution_count": 28,
   "metadata": {},
   "outputs": [
    {
     "data": {
      "text/plain": [
       "0.6319786707683863"
      ]
     },
     "execution_count": 28,
     "metadata": {},
     "output_type": "execute_result"
    }
   ],
   "source": [
    "lr.score(X_test,y_test)"
   ]
  },
  {
   "cell_type": "code",
   "execution_count": 29,
   "metadata": {},
   "outputs": [],
   "source": [
    "#defining adjusted r-square\n",
    "def adj_r2(x,y,model):    \n",
    "    r2 = model.score(x,y) # r-square\n",
    "    n = x.shape[0]\n",
    "    p = x.shape[1]\n",
    "    adj_r2 = 1-(1-r2)*(n-1)/(n-p-1) #adjusted r-square\n",
    "    return adj_r2 "
   ]
  },
  {
   "cell_type": "code",
   "execution_count": 30,
   "metadata": {},
   "outputs": [
    {
     "data": {
      "text/plain": [
       "0.6311743502333973"
      ]
     },
     "execution_count": 30,
     "metadata": {},
     "output_type": "execute_result"
    }
   ],
   "source": [
    "adj_r2(X_test,y_test,lr)"
   ]
  },
  {
   "cell_type": "code",
   "execution_count": 31,
   "metadata": {},
   "outputs": [
    {
     "data": {
      "text/plain": [
       "0.6314979256113069"
      ]
     },
     "execution_count": 31,
     "metadata": {},
     "output_type": "execute_result"
    }
   ],
   "source": [
    "lr.score(X_train,y_train)"
   ]
  },
  {
   "cell_type": "code",
   "execution_count": 32,
   "metadata": {},
   "outputs": [
    {
     "data": {
      "text/plain": [
       "0.6312969488406428"
      ]
     },
     "execution_count": 32,
     "metadata": {},
     "output_type": "execute_result"
    }
   ],
   "source": [
    "adj_r2(X_train,y_train,lr)"
   ]
  },
  {
   "cell_type": "markdown",
   "metadata": {},
   "source": [
    "r-square value for training data set: 63.14%\n",
    "\n",
    "adjusted r-square value for training data set:63.12%\n",
    "\n",
    "r-square value for test data set:63.19%\n",
    "\n",
    "adjusted r-square value for test data set:63.11%\n",
    "\n",
    "rmse : 69905.43751090675"
   ]
  },
  {
   "cell_type": "markdown",
   "metadata": {},
   "source": [
    "# Ridge Regression"
   ]
  },
  {
   "cell_type": "code",
   "execution_count": 33,
   "metadata": {
    "scrolled": true
   },
   "outputs": [
    {
     "name": "stdout",
     "output_type": "stream",
     "text": [
      "{'alpha': 220}\n",
      "-5537420804.437614\n"
     ]
    }
   ],
   "source": [
    "#importing necessary varioables\n",
    "from sklearn.linear_model import Ridge\n",
    "from sklearn.model_selection import GridSearchCV\n",
    "ridge = Ridge()\n",
    "parameters={'alpha':[1e-15,1e-10,1e-8,1e-3,1e-2,1,5,10,20,30,35,40,45,50,55,100,101,220,219,215,210,207,208,206,205]} #hyper parameters\n",
    "ridge_regress = GridSearchCV(ridge,parameters,scoring = \"neg_mean_squared_error\",cv = 5) #Cross validation\n",
    "ridge_regress.fit(X,y) #fit the ridge regression with respect to ridge regression\n",
    "print(ridge_regress.best_params_) #printing the suitable alpha value\n",
    "print(ridge_regress.best_score_ )#MSE value with respect to alpha value"
   ]
  },
  {
   "cell_type": "code",
   "execution_count": 34,
   "metadata": {
    "scrolled": true
   },
   "outputs": [
    {
     "name": "stdout",
     "output_type": "stream",
     "text": [
      "Ridge(alpha=220)\n"
     ]
    }
   ],
   "source": [
    "# asiigning alpha value to \"ridge_alpha\"\n",
    "ridge_alpha = 220\n",
    "\n",
    "# fitting ridge regression\n",
    "ridge_reg = Ridge(ridge_alpha)\n",
    "print(ridge_reg.fit(X_train,y_train))"
   ]
  },
  {
   "cell_type": "code",
   "execution_count": 35,
   "metadata": {},
   "outputs": [
    {
     "data": {
      "text/plain": [
       "0.6305648302884086"
      ]
     },
     "execution_count": 35,
     "metadata": {},
     "output_type": "execute_result"
    }
   ],
   "source": [
    "# r-square value for training set\n",
    "ridge_reg.score(X_train,y_train)"
   ]
  },
  {
   "cell_type": "code",
   "execution_count": 36,
   "metadata": {},
   "outputs": [
    {
     "data": {
      "text/plain": [
       "0.6303633446183441"
      ]
     },
     "execution_count": 36,
     "metadata": {},
     "output_type": "execute_result"
    }
   ],
   "source": [
    "adj_r2(X_train,y_train,ridge_reg)"
   ]
  },
  {
   "cell_type": "code",
   "execution_count": 37,
   "metadata": {},
   "outputs": [
    {
     "data": {
      "text/plain": [
       "0.6341266290059405"
      ]
     },
     "execution_count": 37,
     "metadata": {},
     "output_type": "execute_result"
    }
   ],
   "source": [
    "# r-square value for training set\n",
    "ridge_reg.score(X_test,y_test)"
   ]
  },
  {
   "cell_type": "code",
   "execution_count": 38,
   "metadata": {},
   "outputs": [
    {
     "data": {
      "text/plain": [
       "0.6333270028915776"
      ]
     },
     "execution_count": 38,
     "metadata": {},
     "output_type": "execute_result"
    }
   ],
   "source": [
    "# adjusted r-sqaure value for test set\n",
    "adj_r2(X_test,y_test,ridge_reg)"
   ]
  },
  {
   "cell_type": "markdown",
   "metadata": {},
   "source": [
    "r-square value for training data set: 63.05%\n",
    "\n",
    "adjusted r-square value for training data set:63.03%\n",
    "\n",
    "r-square value for test data set:63.41%\n",
    "\n",
    "adjusted r-square value for test data set:63.33%\n",
    "\n",
    "mse : 5537420804.437614"
   ]
  },
  {
   "cell_type": "markdown",
   "metadata": {},
   "source": [
    "# Lasso Regression"
   ]
  },
  {
   "cell_type": "code",
   "execution_count": 39,
   "metadata": {},
   "outputs": [
    {
     "name": "stdout",
     "output_type": "stream",
     "text": [
      "{'alpha': 300}\n",
      "-5583663734.230283\n"
     ]
    }
   ],
   "source": [
    "#importing necessary libraries\n",
    "from sklearn.linear_model import Lasso\n",
    "from sklearn.model_selection import GridSearchCV \n",
    "lasso=Lasso()\n",
    "\n",
    "#parameters\n",
    "parameters={'alpha':[1e-15,1e-10,1e-8,1e-3,1e-2,1,5,10,20,30,35,40,45,50,55,100,200,300,1.1,0.9,0.8,0.7,0.5,0.4,0.3,0.2,0.33]}\n",
    "lasso_regressor=GridSearchCV(lasso,parameters,scoring='neg_mean_squared_error',cv=5)#cross validation\n",
    "\n",
    "lasso_regressor.fit(X,y)#fitting the resgression\n",
    "print(lasso_regressor.best_params_)#printing the suitable alpha value\n",
    "print(lasso_regressor.best_score_)#MSE value with respect to alpha value"
   ]
  },
  {
   "cell_type": "code",
   "execution_count": 40,
   "metadata": {},
   "outputs": [
    {
     "name": "stdout",
     "output_type": "stream",
     "text": [
      "Ridge(alpha=300)\n"
     ]
    }
   ],
   "source": [
    "# asiigning alpha value to \"lasso_alpha\"\n",
    "lasso_alpha=300\n",
    "\n",
    "# fitting lasso regression\n",
    "lasso_reg = Ridge(lasso_alpha)\n",
    "print(lasso_reg.fit(X_train,y_train))"
   ]
  },
  {
   "cell_type": "code",
   "execution_count": 41,
   "metadata": {},
   "outputs": [
    {
     "data": {
      "text/plain": [
       "0.6299742962599462"
      ]
     },
     "execution_count": 41,
     "metadata": {},
     "output_type": "execute_result"
    }
   ],
   "source": [
    "#r-square value for training set\n",
    "lasso_reg.score(X_train,y_train)"
   ]
  },
  {
   "cell_type": "code",
   "execution_count": 42,
   "metadata": {},
   "outputs": [
    {
     "data": {
      "text/plain": [
       "0.6297724885194504"
      ]
     },
     "execution_count": 42,
     "metadata": {},
     "output_type": "execute_result"
    }
   ],
   "source": [
    "#adjusted r-square value for training set\n",
    "adj_r2(X_train,y_train,lasso_reg)"
   ]
  },
  {
   "cell_type": "code",
   "execution_count": 43,
   "metadata": {},
   "outputs": [
    {
     "data": {
      "text/plain": [
       "0.63432919611621"
      ]
     },
     "execution_count": 43,
     "metadata": {},
     "output_type": "execute_result"
    }
   ],
   "source": [
    "#adjusted r-square value for training set\n",
    "lasso_reg.score(X_test,y_test)"
   ]
  },
  {
   "cell_type": "code",
   "execution_count": 44,
   "metadata": {},
   "outputs": [
    {
     "data": {
      "text/plain": [
       "0.6335300127177267"
      ]
     },
     "execution_count": 44,
     "metadata": {},
     "output_type": "execute_result"
    }
   ],
   "source": [
    "#adjusted r-square value for test set\n",
    "adj_r2(X_test,y_test,lasso_reg)"
   ]
  },
  {
   "cell_type": "markdown",
   "metadata": {},
   "source": [
    "r-square value for training data set: 62.99%\n",
    "\n",
    "adjusted r-square value for training data set:62.97%\n",
    "\n",
    "r-square value for test data set:63.43%\n",
    "\n",
    "adjusted r-square value for test data set:63.35%\n",
    "\n",
    "mse : 5583663734.230283"
   ]
  },
  {
   "cell_type": "markdown",
   "metadata": {},
   "source": [
    "# Elastic net"
   ]
  },
  {
   "cell_type": "code",
   "execution_count": 45,
   "metadata": {},
   "outputs": [
    {
     "data": {
      "text/plain": [
       "ElasticNetCV(cv=5)"
      ]
     },
     "execution_count": 45,
     "metadata": {},
     "output_type": "execute_result"
    }
   ],
   "source": [
    "#importig necessary libararies\n",
    "from sklearn.linear_model  import  ElasticNetCV\n",
    "from sklearn.linear_model  import  ElasticNet\n",
    "elasticCV = ElasticNetCV(alphas = None, cv =5)# Cross Validation\n",
    "\n",
    "elasticCV.fit(X_train, y_train)"
   ]
  },
  {
   "cell_type": "code",
   "execution_count": 46,
   "metadata": {},
   "outputs": [
    {
     "data": {
      "text/plain": [
       "158.66793096490227"
      ]
     },
     "execution_count": 46,
     "metadata": {},
     "output_type": "execute_result"
    }
   ],
   "source": [
    "#getting alpha value\n",
    "elastic_alpha=elasticCV.alpha_\n",
    "elastic_alpha"
   ]
  },
  {
   "cell_type": "code",
   "execution_count": 47,
   "metadata": {},
   "outputs": [
    {
     "data": {
      "text/plain": [
       "ElasticNet(alpha=158.66793096490227)"
      ]
     },
     "execution_count": 47,
     "metadata": {},
     "output_type": "execute_result"
    }
   ],
   "source": [
    "#fittting elasticnet regression\n",
    "elasticnet_reg = ElasticNet(alpha = elastic_alpha)\n",
    "elasticnet_reg.fit(X_train, y_train)"
   ]
  },
  {
   "cell_type": "code",
   "execution_count": 48,
   "metadata": {},
   "outputs": [
    {
     "data": {
      "text/plain": [
       "0.019206113108690914"
      ]
     },
     "execution_count": 48,
     "metadata": {},
     "output_type": "execute_result"
    }
   ],
   "source": [
    "#r-square value for training set\n",
    "elasticnet_reg.score(X_train, y_train)"
   ]
  },
  {
   "cell_type": "code",
   "execution_count": 49,
   "metadata": {},
   "outputs": [
    {
     "data": {
      "text/plain": [
       "0.018671199462949706"
      ]
     },
     "execution_count": 49,
     "metadata": {},
     "output_type": "execute_result"
    }
   ],
   "source": [
    "#adjusted r-square value for training set\n",
    "adj_r2(X_train,y_train,elasticnet_reg)"
   ]
  },
  {
   "cell_type": "code",
   "execution_count": 50,
   "metadata": {},
   "outputs": [
    {
     "data": {
      "text/plain": [
       "0.01958486894309286"
      ]
     },
     "execution_count": 50,
     "metadata": {},
     "output_type": "execute_result"
    }
   ],
   "source": [
    "#r-square value for test set\n",
    "elasticnet_reg.score(X_test, y_test)"
   ]
  },
  {
   "cell_type": "code",
   "execution_count": 51,
   "metadata": {},
   "outputs": [
    {
     "data": {
      "text/plain": [
       "0.017442145247242413"
      ]
     },
     "execution_count": 51,
     "metadata": {},
     "output_type": "execute_result"
    }
   ],
   "source": [
    "#adjusted r-square value for test set\n",
    "adj_r2(X_test,y_test,elasticnet_reg)"
   ]
  },
  {
   "cell_type": "markdown",
   "metadata": {},
   "source": [
    "r-square value for training data set: 1.92%\n",
    "\n",
    "adjusted r-square value for training data set:1.86%\n",
    "\n",
    "r-square value for test data set:1.95%\n",
    "\n",
    "adjusted r-square value for test data set:1.74%"
   ]
  },
  {
   "cell_type": "markdown",
   "metadata": {},
   "source": [
    "######  There is no much differnce in mse and r-square value of linear, lasso and ridge regression models we can conclude that model has been well trained over the training data.  \n",
    "###### But elastic net is not best model for this dataset beccause r-square value is less compare to other regression models."
   ]
  },
  {
   "cell_type": "markdown",
   "metadata": {},
   "source": [
    "# Decision Tree"
   ]
  },
  {
   "cell_type": "code",
   "execution_count": 52,
   "metadata": {},
   "outputs": [],
   "source": [
    "#importing the necessary libraries\n",
    "from sklearn.tree import DecisionTreeRegressor,export_graphviz\n",
    "from sklearn.ensemble import RandomForestRegressor\n",
    "from sklearn import tree"
   ]
  },
  {
   "cell_type": "code",
   "execution_count": 53,
   "metadata": {},
   "outputs": [
    {
     "data": {
      "text/plain": [
       "DecisionTreeRegressor(random_state=1996)"
      ]
     },
     "execution_count": 53,
     "metadata": {},
     "output_type": "execute_result"
    }
   ],
   "source": [
    "#Decision tree\n",
    "dt = DecisionTreeRegressor(random_state = 1996)\n",
    "dt.fit(X_train,y_train)"
   ]
  },
  {
   "cell_type": "code",
   "execution_count": 54,
   "metadata": {},
   "outputs": [
    {
     "data": {
      "text/plain": [
       "1.0"
      ]
     },
     "execution_count": 54,
     "metadata": {},
     "output_type": "execute_result"
    }
   ],
   "source": [
    "dt.score(X_train,y_train)"
   ]
  },
  {
   "cell_type": "code",
   "execution_count": 55,
   "metadata": {},
   "outputs": [
    {
     "data": {
      "text/plain": [
       "1.0"
      ]
     },
     "execution_count": 55,
     "metadata": {},
     "output_type": "execute_result"
    }
   ],
   "source": [
    "adj_r2(X_train,y_train,dt)"
   ]
  },
  {
   "cell_type": "code",
   "execution_count": 56,
   "metadata": {},
   "outputs": [
    {
     "data": {
      "text/plain": [
       "0.4265363074729257"
      ]
     },
     "execution_count": 56,
     "metadata": {},
     "output_type": "execute_result"
    }
   ],
   "source": [
    "#prediction\n",
    "dt.score(X_test,y_test)"
   ]
  },
  {
   "cell_type": "code",
   "execution_count": 57,
   "metadata": {},
   "outputs": [
    {
     "data": {
      "text/plain": [
       "0.4252829871152901"
      ]
     },
     "execution_count": 57,
     "metadata": {},
     "output_type": "execute_result"
    }
   ],
   "source": [
    "adj_r2(X_test,y_test,dt)"
   ]
  },
  {
   "cell_type": "code",
   "execution_count": 58,
   "metadata": {},
   "outputs": [],
   "source": [
    "leaves = [1,2,4,5,10,20,30,40,80,100]"
   ]
  },
  {
   "cell_type": "code",
   "execution_count": 59,
   "metadata": {},
   "outputs": [],
   "source": [
    "grid_param_dt = {\n",
    "    'max_features' : ['auto','log2'],\n",
    "    'min_samples_leaf':leaves\n",
    "}"
   ]
  },
  {
   "cell_type": "code",
   "execution_count": 60,
   "metadata": {},
   "outputs": [],
   "source": [
    "grid_search = GridSearchCV(estimator=dt,param_grid=grid_param_dt,cv=5,n_jobs =-1,verbose = 3)"
   ]
  },
  {
   "cell_type": "code",
   "execution_count": 61,
   "metadata": {},
   "outputs": [
    {
     "data": {
      "text/plain": [
       "dict_keys(['ccp_alpha', 'criterion', 'max_depth', 'max_features', 'max_leaf_nodes', 'min_impurity_decrease', 'min_impurity_split', 'min_samples_leaf', 'min_samples_split', 'min_weight_fraction_leaf', 'random_state', 'splitter'])"
      ]
     },
     "execution_count": 61,
     "metadata": {},
     "output_type": "execute_result"
    }
   ],
   "source": [
    "dt.get_params().keys()"
   ]
  },
  {
   "cell_type": "code",
   "execution_count": 62,
   "metadata": {},
   "outputs": [
    {
     "name": "stdout",
     "output_type": "stream",
     "text": [
      "Fitting 5 folds for each of 20 candidates, totalling 100 fits\n"
     ]
    },
    {
     "data": {
      "text/plain": [
       "{'max_features': 'auto', 'min_samples_leaf': 30}"
      ]
     },
     "execution_count": 62,
     "metadata": {},
     "output_type": "execute_result"
    }
   ],
   "source": [
    "grid_search.fit(X_train,y_train)\n",
    "grid_search.best_params_"
   ]
  },
  {
   "cell_type": "code",
   "execution_count": 63,
   "metadata": {},
   "outputs": [
    {
     "data": {
      "text/plain": [
       "DecisionTreeRegressor(max_features='auto', min_samples_leaf=30)"
      ]
     },
     "execution_count": 63,
     "metadata": {},
     "output_type": "execute_result"
    }
   ],
   "source": [
    "dt1 = DecisionTreeRegressor(max_features = 'auto', min_samples_leaf = 30)\n",
    "dt1.fit(X_train,y_train)"
   ]
  },
  {
   "cell_type": "code",
   "execution_count": 64,
   "metadata": {},
   "outputs": [
    {
     "name": "stdout",
     "output_type": "stream",
     "text": [
      "0.7276198756271249\n",
      "0.6608882188687835\n"
     ]
    }
   ],
   "source": [
    "print(dt1.score(X_train,y_train))\n",
    "print(dt1.score(X_test,y_test))"
   ]
  },
  {
   "cell_type": "markdown",
   "metadata": {},
   "source": [
    "# Random Forest"
   ]
  },
  {
   "cell_type": "code",
   "execution_count": 65,
   "metadata": {},
   "outputs": [
    {
     "data": {
      "text/plain": [
       "RandomForestRegressor(random_state=1996)"
      ]
     },
     "execution_count": 65,
     "metadata": {},
     "output_type": "execute_result"
    }
   ],
   "source": [
    "rf = RandomForestRegressor(random_state = 1996)\n",
    "rf.fit(X_train,y_train)"
   ]
  },
  {
   "cell_type": "code",
   "execution_count": 66,
   "metadata": {},
   "outputs": [
    {
     "name": "stdout",
     "output_type": "stream",
     "text": [
      "0.9592215024197389\n",
      "0.7152855938215277\n"
     ]
    }
   ],
   "source": [
    "print(rf.score(X_train,y_train))\n",
    "print(rf.score(X_test,y_test))"
   ]
  },
  {
   "cell_type": "code",
   "execution_count": 67,
   "metadata": {},
   "outputs": [],
   "source": [
    "leaves = [1,2,4,5,10,20,30,40,80,100]"
   ]
  },
  {
   "cell_type": "code",
   "execution_count": 68,
   "metadata": {},
   "outputs": [],
   "source": [
    "grid_param = {\n",
    "    'max_features' : ['auto','log2'],\n",
    "    'min_samples_leaf' : range(1,10,1)\n",
    "}"
   ]
  },
  {
   "cell_type": "code",
   "execution_count": 69,
   "metadata": {},
   "outputs": [],
   "source": [
    "grid_search = GridSearchCV(estimator=rf,param_grid=grid_param,cv=5,n_jobs =-1,verbose = 3)"
   ]
  },
  {
   "cell_type": "code",
   "execution_count": 70,
   "metadata": {},
   "outputs": [
    {
     "name": "stdout",
     "output_type": "stream",
     "text": [
      "Fitting 5 folds for each of 18 candidates, totalling 90 fits\n"
     ]
    },
    {
     "data": {
      "text/plain": [
       "{'max_features': 'log2', 'min_samples_leaf': 2}"
      ]
     },
     "execution_count": 70,
     "metadata": {},
     "output_type": "execute_result"
    }
   ],
   "source": [
    "grid_search.fit(X_train,y_train)\n",
    "grid_search.best_params_"
   ]
  },
  {
   "cell_type": "code",
   "execution_count": 71,
   "metadata": {},
   "outputs": [
    {
     "data": {
      "text/plain": [
       "RandomForestRegressor(max_features='log2', min_samples_leaf=2,\n",
       "                      random_state=1996)"
      ]
     },
     "execution_count": 71,
     "metadata": {},
     "output_type": "execute_result"
    }
   ],
   "source": [
    "rand_reg = RandomForestRegressor(max_features = 'log2',min_samples_leaf = 2,random_state=1996)\n",
    "rand_reg.fit(X_train,y_train)"
   ]
  },
  {
   "cell_type": "code",
   "execution_count": 72,
   "metadata": {},
   "outputs": [
    {
     "name": "stdout",
     "output_type": "stream",
     "text": [
      "0.9116505972451368\n",
      "0.7240934849997211\n"
     ]
    }
   ],
   "source": [
    "print(rand_reg.score(X_train,y_train))\n",
    "print(rand_reg.score(X_test,y_test))"
   ]
  },
  {
   "cell_type": "markdown",
   "metadata": {},
   "source": [
    "# Ada Boost"
   ]
  },
  {
   "cell_type": "code",
   "execution_count": 73,
   "metadata": {},
   "outputs": [
    {
     "data": {
      "text/plain": [
       "AdaBoostRegressor(random_state=1996)"
      ]
     },
     "execution_count": 73,
     "metadata": {},
     "output_type": "execute_result"
    }
   ],
   "source": [
    "from sklearn.ensemble import AdaBoostRegressor\n",
    "ada =  AdaBoostRegressor(random_state = 1996)\n",
    "ada.fit(X_train,y_train)"
   ]
  },
  {
   "cell_type": "code",
   "execution_count": 74,
   "metadata": {},
   "outputs": [
    {
     "name": "stdout",
     "output_type": "stream",
     "text": [
      "0.47483551289603754\n",
      "0.4606325983562467\n"
     ]
    }
   ],
   "source": [
    "print(ada.score(X_train,y_train))\n",
    "print(ada.score(X_test,y_test))"
   ]
  },
  {
   "cell_type": "code",
   "execution_count": 75,
   "metadata": {},
   "outputs": [
    {
     "data": {
      "text/plain": [
       "dict_keys(['base_estimator', 'learning_rate', 'loss', 'n_estimators', 'random_state'])"
      ]
     },
     "execution_count": 75,
     "metadata": {},
     "output_type": "execute_result"
    }
   ],
   "source": [
    "ada.get_params().keys()"
   ]
  },
  {
   "cell_type": "code",
   "execution_count": 76,
   "metadata": {},
   "outputs": [],
   "source": [
    "param_grid_ada={\n",
    "   'learning_rate':[1,0.5,0.1,0.01,0.001]    \n",
    "}"
   ]
  },
  {
   "cell_type": "code",
   "execution_count": 77,
   "metadata": {
    "scrolled": true
   },
   "outputs": [
    {
     "name": "stdout",
     "output_type": "stream",
     "text": [
      "Fitting 5 folds for each of 5 candidates, totalling 25 fits\n",
      "[CV 1/5] END ................................learning_rate=1; total time=   0.5s\n",
      "[CV 2/5] END ................................learning_rate=1; total time=   0.2s\n",
      "[CV 3/5] END ................................learning_rate=1; total time=   0.6s\n",
      "[CV 4/5] END ................................learning_rate=1; total time=   0.3s\n",
      "[CV 5/5] END ................................learning_rate=1; total time=   0.5s\n",
      "[CV 1/5] END ..............................learning_rate=0.5; total time=   0.6s\n",
      "[CV 2/5] END ..............................learning_rate=0.5; total time=   0.5s\n",
      "[CV 3/5] END ..............................learning_rate=0.5; total time=   0.9s\n",
      "[CV 4/5] END ..............................learning_rate=0.5; total time=   0.7s\n",
      "[CV 5/5] END ..............................learning_rate=0.5; total time=   1.0s\n",
      "[CV 1/5] END ..............................learning_rate=0.1; total time=   1.1s\n",
      "[CV 2/5] END ..............................learning_rate=0.1; total time=   1.0s\n",
      "[CV 3/5] END ..............................learning_rate=0.1; total time=   1.0s\n",
      "[CV 4/5] END ..............................learning_rate=0.1; total time=   1.0s\n",
      "[CV 5/5] END ..............................learning_rate=0.1; total time=   1.0s\n",
      "[CV 1/5] END .............................learning_rate=0.01; total time=   1.1s\n",
      "[CV 2/5] END .............................learning_rate=0.01; total time=   1.0s\n",
      "[CV 3/5] END .............................learning_rate=0.01; total time=   1.0s\n",
      "[CV 4/5] END .............................learning_rate=0.01; total time=   1.1s\n",
      "[CV 5/5] END .............................learning_rate=0.01; total time=   1.0s\n",
      "[CV 1/5] END ............................learning_rate=0.001; total time=   1.0s\n",
      "[CV 2/5] END ............................learning_rate=0.001; total time=   1.3s\n",
      "[CV 3/5] END ............................learning_rate=0.001; total time=   1.1s\n",
      "[CV 4/5] END ............................learning_rate=0.001; total time=   1.0s\n",
      "[CV 5/5] END ............................learning_rate=0.001; total time=   1.0s\n"
     ]
    },
    {
     "data": {
      "text/plain": [
       "{'learning_rate': 0.01}"
      ]
     },
     "execution_count": 77,
     "metadata": {},
     "output_type": "execute_result"
    }
   ],
   "source": [
    "grid_ada = GridSearchCV(AdaBoostRegressor(random_state=265),param_grid_ada, verbose=3)\n",
    "grid_ada.fit(X_train,y_train)\n",
    "grid_ada.best_params_"
   ]
  },
  {
   "cell_type": "code",
   "execution_count": 78,
   "metadata": {},
   "outputs": [
    {
     "data": {
      "text/plain": [
       "AdaBoostRegressor(learning_rate=0.01)"
      ]
     },
     "execution_count": 78,
     "metadata": {},
     "output_type": "execute_result"
    }
   ],
   "source": [
    "ada1 = AdaBoostRegressor(learning_rate = 0.01)\n",
    "ada1.fit(X_train,y_train)"
   ]
  },
  {
   "cell_type": "code",
   "execution_count": 79,
   "metadata": {},
   "outputs": [
    {
     "name": "stdout",
     "output_type": "stream",
     "text": [
      "0.579707869283193\n",
      "0.5813065349921991\n"
     ]
    }
   ],
   "source": [
    "print(ada1.score(X_train,y_train))\n",
    "print(ada1.score(X_test,y_test))"
   ]
  },
  {
   "cell_type": "markdown",
   "metadata": {},
   "source": [
    "# Gradient Boosting"
   ]
  },
  {
   "cell_type": "code",
   "execution_count": 80,
   "metadata": {},
   "outputs": [
    {
     "data": {
      "text/plain": [
       "GradientBoostingRegressor(random_state=1996)"
      ]
     },
     "execution_count": 80,
     "metadata": {},
     "output_type": "execute_result"
    }
   ],
   "source": [
    "from sklearn.ensemble import GradientBoostingRegressor\n",
    "gbr = GradientBoostingRegressor(random_state = 1996)\n",
    "gbr.fit(X_train,y_train)"
   ]
  },
  {
   "cell_type": "code",
   "execution_count": 81,
   "metadata": {},
   "outputs": [
    {
     "name": "stdout",
     "output_type": "stream",
     "text": [
      "0.720312796742987\n",
      "0.701234765532815\n"
     ]
    }
   ],
   "source": [
    "print(gbr.score(X_train,y_train))\n",
    "print(gbr.score(X_test,y_test))"
   ]
  },
  {
   "cell_type": "code",
   "execution_count": 82,
   "metadata": {},
   "outputs": [],
   "source": [
    "grid_gbr = {\n",
    "    'learning_rate':[1,0.5,0.1,0.01,0.001]    \n",
    "}"
   ]
  },
  {
   "cell_type": "code",
   "execution_count": 83,
   "metadata": {
    "scrolled": true
   },
   "outputs": [
    {
     "name": "stdout",
     "output_type": "stream",
     "text": [
      "Fitting 5 folds for each of 5 candidates, totalling 25 fits\n",
      "[CV 1/5] END ................................learning_rate=1; total time=   1.8s\n",
      "[CV 2/5] END ................................learning_rate=1; total time=   1.8s\n",
      "[CV 3/5] END ................................learning_rate=1; total time=   1.8s\n",
      "[CV 4/5] END ................................learning_rate=1; total time=   2.0s\n",
      "[CV 5/5] END ................................learning_rate=1; total time=   1.8s\n",
      "[CV 1/5] END ..............................learning_rate=0.5; total time=   1.8s\n",
      "[CV 2/5] END ..............................learning_rate=0.5; total time=   1.7s\n",
      "[CV 3/5] END ..............................learning_rate=0.5; total time=   1.8s\n",
      "[CV 4/5] END ..............................learning_rate=0.5; total time=   1.8s\n",
      "[CV 5/5] END ..............................learning_rate=0.5; total time=   1.8s\n",
      "[CV 1/5] END ..............................learning_rate=0.1; total time=   2.1s\n",
      "[CV 2/5] END ..............................learning_rate=0.1; total time=   2.0s\n",
      "[CV 3/5] END ..............................learning_rate=0.1; total time=   1.9s\n",
      "[CV 4/5] END ..............................learning_rate=0.1; total time=   1.8s\n",
      "[CV 5/5] END ..............................learning_rate=0.1; total time=   1.9s\n",
      "[CV 1/5] END .............................learning_rate=0.01; total time=   1.8s\n",
      "[CV 2/5] END .............................learning_rate=0.01; total time=   1.9s\n",
      "[CV 3/5] END .............................learning_rate=0.01; total time=   1.8s\n",
      "[CV 4/5] END .............................learning_rate=0.01; total time=   1.7s\n",
      "[CV 5/5] END .............................learning_rate=0.01; total time=   2.0s\n",
      "[CV 1/5] END ............................learning_rate=0.001; total time=   1.8s\n",
      "[CV 2/5] END ............................learning_rate=0.001; total time=   1.8s\n",
      "[CV 3/5] END ............................learning_rate=0.001; total time=   1.9s\n",
      "[CV 4/5] END ............................learning_rate=0.001; total time=   1.9s\n",
      "[CV 5/5] END ............................learning_rate=0.001; total time=   2.0s\n"
     ]
    },
    {
     "data": {
      "text/plain": [
       "{'learning_rate': 0.5}"
      ]
     },
     "execution_count": 83,
     "metadata": {},
     "output_type": "execute_result"
    }
   ],
   "source": [
    "gbr1 = GridSearchCV(GradientBoostingRegressor(random_state=1996),grid_gbr, verbose=3)\n",
    "gbr1.fit(X_train,y_train)\n",
    "gbr1.best_params_"
   ]
  },
  {
   "cell_type": "code",
   "execution_count": 84,
   "metadata": {},
   "outputs": [
    {
     "data": {
      "text/plain": [
       "GradientBoostingRegressor(learning_rate=0.5, random_state=1996)"
      ]
     },
     "execution_count": 84,
     "metadata": {},
     "output_type": "execute_result"
    }
   ],
   "source": [
    "gbr1 = GradientBoostingRegressor(random_state = 1996,learning_rate = 0.5)\n",
    "gbr1.fit(X_train,y_train)"
   ]
  },
  {
   "cell_type": "code",
   "execution_count": 85,
   "metadata": {},
   "outputs": [
    {
     "name": "stdout",
     "output_type": "stream",
     "text": [
      "0.7718461137928089\n",
      "0.7057936972945578\n"
     ]
    }
   ],
   "source": [
    "print(gbr1.score(X_train,y_train))\n",
    "print(gbr1.score(X_test,y_test))"
   ]
  },
  {
   "cell_type": "markdown",
   "metadata": {},
   "source": [
    "# XG Boost"
   ]
  },
  {
   "cell_type": "code",
   "execution_count": 86,
   "metadata": {},
   "outputs": [
    {
     "data": {
      "text/plain": [
       "XGBRegressor(base_score=0.5, booster='gbtree', colsample_bylevel=1,\n",
       "             colsample_bynode=1, colsample_bytree=1, gamma=0, gpu_id=-1,\n",
       "             importance_type='gain', interaction_constraints='',\n",
       "             learning_rate=0.300000012, max_delta_step=0, max_depth=6,\n",
       "             min_child_weight=1, missing=nan, monotone_constraints='()',\n",
       "             n_estimators=100, n_jobs=4, num_parallel_tree=1, random_state=1996,\n",
       "             reg_alpha=0, reg_lambda=1, scale_pos_weight=1, subsample=1,\n",
       "             tree_method='exact', validate_parameters=1, verbosity=None)"
      ]
     },
     "execution_count": 86,
     "metadata": {},
     "output_type": "execute_result"
    }
   ],
   "source": [
    "from xgboost import XGBRegressor\n",
    "xg = XGBRegressor(random_state = 1996)\n",
    "xg.fit(X_train,y_train)"
   ]
  },
  {
   "cell_type": "code",
   "execution_count": 87,
   "metadata": {},
   "outputs": [
    {
     "name": "stdout",
     "output_type": "stream",
     "text": [
      "0.8646615511023308\n",
      "0.7119598933745016\n"
     ]
    }
   ],
   "source": [
    "print(xg.score(X_train,y_train))\n",
    "print(xg.score(X_test,y_test))"
   ]
  },
  {
   "cell_type": "code",
   "execution_count": 88,
   "metadata": {},
   "outputs": [],
   "source": [
    "grid_xg = {\n",
    "    \"learning_rate\":[1,0.5,0.1,0.01,0.001]\n",
    "}"
   ]
  },
  {
   "cell_type": "code",
   "execution_count": 89,
   "metadata": {
    "scrolled": true
   },
   "outputs": [
    {
     "name": "stdout",
     "output_type": "stream",
     "text": [
      "Fitting 5 folds for each of 5 candidates, totalling 25 fits\n",
      "[CV 1/5] END ................................learning_rate=1; total time=   0.9s\n",
      "[CV 2/5] END ................................learning_rate=1; total time=   1.0s\n",
      "[CV 3/5] END ................................learning_rate=1; total time=   1.0s\n",
      "[CV 4/5] END ................................learning_rate=1; total time=   0.9s\n",
      "[CV 5/5] END ................................learning_rate=1; total time=   0.9s\n",
      "[CV 1/5] END ..............................learning_rate=0.5; total time=   0.9s\n",
      "[CV 2/5] END ..............................learning_rate=0.5; total time=   1.0s\n",
      "[CV 3/5] END ..............................learning_rate=0.5; total time=   0.9s\n",
      "[CV 4/5] END ..............................learning_rate=0.5; total time=   0.9s\n",
      "[CV 5/5] END ..............................learning_rate=0.5; total time=   0.9s\n",
      "[CV 1/5] END ..............................learning_rate=0.1; total time=   0.9s\n",
      "[CV 2/5] END ..............................learning_rate=0.1; total time=   0.9s\n",
      "[CV 3/5] END ..............................learning_rate=0.1; total time=   0.9s\n",
      "[CV 4/5] END ..............................learning_rate=0.1; total time=   1.1s\n",
      "[CV 5/5] END ..............................learning_rate=0.1; total time=   1.0s\n",
      "[CV 1/5] END .............................learning_rate=0.01; total time=   1.0s\n",
      "[CV 2/5] END .............................learning_rate=0.01; total time=   1.0s\n",
      "[CV 3/5] END .............................learning_rate=0.01; total time=   1.0s\n",
      "[CV 4/5] END .............................learning_rate=0.01; total time=   1.0s\n",
      "[CV 5/5] END .............................learning_rate=0.01; total time=   1.0s\n",
      "[CV 1/5] END ............................learning_rate=0.001; total time=   1.0s\n",
      "[CV 2/5] END ............................learning_rate=0.001; total time=   1.0s\n",
      "[CV 3/5] END ............................learning_rate=0.001; total time=   1.0s\n",
      "[CV 4/5] END ............................learning_rate=0.001; total time=   1.0s\n",
      "[CV 5/5] END ............................learning_rate=0.001; total time=   1.0s\n"
     ]
    },
    {
     "data": {
      "text/plain": [
       "{'learning_rate': 0.1}"
      ]
     },
     "execution_count": 89,
     "metadata": {},
     "output_type": "execute_result"
    }
   ],
   "source": [
    "xg1 = GridSearchCV(xg,grid_xg,verbose = 3)\n",
    "xg1.fit(X_train,y_train)\n",
    "xg1.best_params_"
   ]
  },
  {
   "cell_type": "code",
   "execution_count": 90,
   "metadata": {},
   "outputs": [
    {
     "data": {
      "text/plain": [
       "XGBRegressor(base_score=0.5, booster='gbtree', colsample_bylevel=1,\n",
       "             colsample_bynode=1, colsample_bytree=1, gamma=0, gpu_id=-1,\n",
       "             importance_type='gain', interaction_constraints='',\n",
       "             learning_rate=0.1, max_delta_step=0, max_depth=6,\n",
       "             min_child_weight=1, missing=nan, monotone_constraints='()',\n",
       "             n_estimators=100, n_jobs=4, num_parallel_tree=1, random_state=1996,\n",
       "             reg_alpha=0, reg_lambda=1, scale_pos_weight=1, subsample=1,\n",
       "             tree_method='exact', validate_parameters=1, verbosity=None)"
      ]
     },
     "execution_count": 90,
     "metadata": {},
     "output_type": "execute_result"
    }
   ],
   "source": [
    "xg1 = XGBRegressor(learning_rate = 0.1,random_state = 1996)\n",
    "xg1.fit(X_train,y_train)"
   ]
  },
  {
   "cell_type": "code",
   "execution_count": 91,
   "metadata": {},
   "outputs": [
    {
     "name": "stdout",
     "output_type": "stream",
     "text": [
      "0.809525039408765\n",
      "0.7217657198952289\n"
     ]
    }
   ],
   "source": [
    "print(xg1.score(X_train,y_train))\n",
    "print(xg1.score(X_test,y_test))"
   ]
  },
  {
   "cell_type": "markdown",
   "metadata": {},
   "source": [
    "# KNN"
   ]
  },
  {
   "cell_type": "code",
   "execution_count": 92,
   "metadata": {},
   "outputs": [
    {
     "data": {
      "text/plain": [
       "KNeighborsRegressor()"
      ]
     },
     "execution_count": 92,
     "metadata": {},
     "output_type": "execute_result"
    }
   ],
   "source": [
    "from sklearn.neighbors import KNeighborsRegressor\n",
    "knn = KNeighborsRegressor()\n",
    "knn.fit(X_train,y_train)"
   ]
  },
  {
   "cell_type": "code",
   "execution_count": 93,
   "metadata": {},
   "outputs": [
    {
     "name": "stdout",
     "output_type": "stream",
     "text": [
      "0.7819491534939941\n",
      "0.6809971755304314\n"
     ]
    }
   ],
   "source": [
    "print(knn.score(X_train,y_train))\n",
    "print(knn.score(X_test,y_test))"
   ]
  },
  {
   "cell_type": "code",
   "execution_count": 94,
   "metadata": {},
   "outputs": [],
   "source": [
    "grid_knn = { 'algorithm' : ['ball_tree', 'kd_tree', 'brute'],\n",
    "               'leaf_size' : [18,20,25,27,30,32,34],\n",
    "               'n_neighbors' : [3,5,7,9,10,11,12,13]\n",
    "              }"
   ]
  },
  {
   "cell_type": "code",
   "execution_count": 95,
   "metadata": {
    "scrolled": true
   },
   "outputs": [
    {
     "name": "stdout",
     "output_type": "stream",
     "text": [
      "Fitting 5 folds for each of 168 candidates, totalling 840 fits\n",
      "[CV 1/5] END algorithm=ball_tree, leaf_size=18, n_neighbors=3; total time=   0.6s\n",
      "[CV 2/5] END algorithm=ball_tree, leaf_size=18, n_neighbors=3; total time=   0.6s\n",
      "[CV 3/5] END algorithm=ball_tree, leaf_size=18, n_neighbors=3; total time=   0.6s\n",
      "[CV 4/5] END algorithm=ball_tree, leaf_size=18, n_neighbors=3; total time=   0.6s\n",
      "[CV 5/5] END algorithm=ball_tree, leaf_size=18, n_neighbors=3; total time=   0.6s\n",
      "[CV 1/5] END algorithm=ball_tree, leaf_size=18, n_neighbors=5; total time=   0.6s\n",
      "[CV 2/5] END algorithm=ball_tree, leaf_size=18, n_neighbors=5; total time=   0.6s\n",
      "[CV 3/5] END algorithm=ball_tree, leaf_size=18, n_neighbors=5; total time=   0.6s\n",
      "[CV 4/5] END algorithm=ball_tree, leaf_size=18, n_neighbors=5; total time=   0.6s\n",
      "[CV 5/5] END algorithm=ball_tree, leaf_size=18, n_neighbors=5; total time=   0.6s\n",
      "[CV 1/5] END algorithm=ball_tree, leaf_size=18, n_neighbors=7; total time=   0.7s\n",
      "[CV 2/5] END algorithm=ball_tree, leaf_size=18, n_neighbors=7; total time=   0.7s\n",
      "[CV 3/5] END algorithm=ball_tree, leaf_size=18, n_neighbors=7; total time=   0.6s\n",
      "[CV 4/5] END algorithm=ball_tree, leaf_size=18, n_neighbors=7; total time=   0.6s\n",
      "[CV 5/5] END algorithm=ball_tree, leaf_size=18, n_neighbors=7; total time=   0.6s\n",
      "[CV 1/5] END algorithm=ball_tree, leaf_size=18, n_neighbors=9; total time=   0.7s\n",
      "[CV 2/5] END algorithm=ball_tree, leaf_size=18, n_neighbors=9; total time=   0.6s\n",
      "[CV 3/5] END algorithm=ball_tree, leaf_size=18, n_neighbors=9; total time=   0.6s\n",
      "[CV 4/5] END algorithm=ball_tree, leaf_size=18, n_neighbors=9; total time=   0.7s\n",
      "[CV 5/5] END algorithm=ball_tree, leaf_size=18, n_neighbors=9; total time=   0.6s\n",
      "[CV 1/5] END algorithm=ball_tree, leaf_size=18, n_neighbors=10; total time=   0.9s\n",
      "[CV 2/5] END algorithm=ball_tree, leaf_size=18, n_neighbors=10; total time=   0.7s\n",
      "[CV 3/5] END algorithm=ball_tree, leaf_size=18, n_neighbors=10; total time=   0.6s\n",
      "[CV 4/5] END algorithm=ball_tree, leaf_size=18, n_neighbors=10; total time=   0.6s\n",
      "[CV 5/5] END algorithm=ball_tree, leaf_size=18, n_neighbors=10; total time=   0.7s\n",
      "[CV 1/5] END algorithm=ball_tree, leaf_size=18, n_neighbors=11; total time=   0.7s\n",
      "[CV 2/5] END algorithm=ball_tree, leaf_size=18, n_neighbors=11; total time=   0.7s\n",
      "[CV 3/5] END algorithm=ball_tree, leaf_size=18, n_neighbors=11; total time=   0.6s\n",
      "[CV 4/5] END algorithm=ball_tree, leaf_size=18, n_neighbors=11; total time=   0.7s\n",
      "[CV 5/5] END algorithm=ball_tree, leaf_size=18, n_neighbors=11; total time=   0.6s\n",
      "[CV 1/5] END algorithm=ball_tree, leaf_size=18, n_neighbors=12; total time=   0.7s\n",
      "[CV 2/5] END algorithm=ball_tree, leaf_size=18, n_neighbors=12; total time=   0.7s\n",
      "[CV 3/5] END algorithm=ball_tree, leaf_size=18, n_neighbors=12; total time=   0.6s\n",
      "[CV 4/5] END algorithm=ball_tree, leaf_size=18, n_neighbors=12; total time=   0.6s\n",
      "[CV 5/5] END algorithm=ball_tree, leaf_size=18, n_neighbors=12; total time=   0.6s\n",
      "[CV 1/5] END algorithm=ball_tree, leaf_size=18, n_neighbors=13; total time=   0.7s\n",
      "[CV 2/5] END algorithm=ball_tree, leaf_size=18, n_neighbors=13; total time=   0.7s\n",
      "[CV 3/5] END algorithm=ball_tree, leaf_size=18, n_neighbors=13; total time=   0.7s\n",
      "[CV 4/5] END algorithm=ball_tree, leaf_size=18, n_neighbors=13; total time=   0.6s\n",
      "[CV 5/5] END algorithm=ball_tree, leaf_size=18, n_neighbors=13; total time=   0.6s\n",
      "[CV 1/5] END algorithm=ball_tree, leaf_size=20, n_neighbors=3; total time=   0.7s\n",
      "[CV 2/5] END algorithm=ball_tree, leaf_size=20, n_neighbors=3; total time=   0.8s\n",
      "[CV 3/5] END algorithm=ball_tree, leaf_size=20, n_neighbors=3; total time=   0.6s\n",
      "[CV 4/5] END algorithm=ball_tree, leaf_size=20, n_neighbors=3; total time=   0.6s\n",
      "[CV 5/5] END algorithm=ball_tree, leaf_size=20, n_neighbors=3; total time=   0.6s\n",
      "[CV 1/5] END algorithm=ball_tree, leaf_size=20, n_neighbors=5; total time=   0.6s\n",
      "[CV 2/5] END algorithm=ball_tree, leaf_size=20, n_neighbors=5; total time=   0.6s\n",
      "[CV 3/5] END algorithm=ball_tree, leaf_size=20, n_neighbors=5; total time=   0.6s\n",
      "[CV 4/5] END algorithm=ball_tree, leaf_size=20, n_neighbors=5; total time=   0.6s\n",
      "[CV 5/5] END algorithm=ball_tree, leaf_size=20, n_neighbors=5; total time=   0.6s\n",
      "[CV 1/5] END algorithm=ball_tree, leaf_size=20, n_neighbors=7; total time=   0.7s\n",
      "[CV 2/5] END algorithm=ball_tree, leaf_size=20, n_neighbors=7; total time=   0.6s\n",
      "[CV 3/5] END algorithm=ball_tree, leaf_size=20, n_neighbors=7; total time=   0.6s\n",
      "[CV 4/5] END algorithm=ball_tree, leaf_size=20, n_neighbors=7; total time=   0.6s\n",
      "[CV 5/5] END algorithm=ball_tree, leaf_size=20, n_neighbors=7; total time=   0.6s\n",
      "[CV 1/5] END algorithm=ball_tree, leaf_size=20, n_neighbors=9; total time=   0.7s\n",
      "[CV 2/5] END algorithm=ball_tree, leaf_size=20, n_neighbors=9; total time=   0.6s\n",
      "[CV 3/5] END algorithm=ball_tree, leaf_size=20, n_neighbors=9; total time=   0.6s\n",
      "[CV 4/5] END algorithm=ball_tree, leaf_size=20, n_neighbors=9; total time=   0.6s\n",
      "[CV 5/5] END algorithm=ball_tree, leaf_size=20, n_neighbors=9; total time=   0.6s\n",
      "[CV 1/5] END algorithm=ball_tree, leaf_size=20, n_neighbors=10; total time=   0.6s\n",
      "[CV 2/5] END algorithm=ball_tree, leaf_size=20, n_neighbors=10; total time=   0.6s\n",
      "[CV 3/5] END algorithm=ball_tree, leaf_size=20, n_neighbors=10; total time=   0.7s\n",
      "[CV 4/5] END algorithm=ball_tree, leaf_size=20, n_neighbors=10; total time=   0.9s\n",
      "[CV 5/5] END algorithm=ball_tree, leaf_size=20, n_neighbors=10; total time=   0.6s\n",
      "[CV 1/5] END algorithm=ball_tree, leaf_size=20, n_neighbors=11; total time=   0.7s\n",
      "[CV 2/5] END algorithm=ball_tree, leaf_size=20, n_neighbors=11; total time=   0.6s\n",
      "[CV 3/5] END algorithm=ball_tree, leaf_size=20, n_neighbors=11; total time=   0.6s\n",
      "[CV 4/5] END algorithm=ball_tree, leaf_size=20, n_neighbors=11; total time=   0.6s\n",
      "[CV 5/5] END algorithm=ball_tree, leaf_size=20, n_neighbors=11; total time=   0.6s\n",
      "[CV 1/5] END algorithm=ball_tree, leaf_size=20, n_neighbors=12; total time=   0.7s\n",
      "[CV 2/5] END algorithm=ball_tree, leaf_size=20, n_neighbors=12; total time=   0.7s\n",
      "[CV 3/5] END algorithm=ball_tree, leaf_size=20, n_neighbors=12; total time=   0.6s\n",
      "[CV 4/5] END algorithm=ball_tree, leaf_size=20, n_neighbors=12; total time=   0.6s\n",
      "[CV 5/5] END algorithm=ball_tree, leaf_size=20, n_neighbors=12; total time=   0.6s\n",
      "[CV 1/5] END algorithm=ball_tree, leaf_size=20, n_neighbors=13; total time=   0.7s\n",
      "[CV 2/5] END algorithm=ball_tree, leaf_size=20, n_neighbors=13; total time=   0.6s\n",
      "[CV 3/5] END algorithm=ball_tree, leaf_size=20, n_neighbors=13; total time=   0.6s\n",
      "[CV 4/5] END algorithm=ball_tree, leaf_size=20, n_neighbors=13; total time=   0.6s\n",
      "[CV 5/5] END algorithm=ball_tree, leaf_size=20, n_neighbors=13; total time=   0.6s\n",
      "[CV 1/5] END algorithm=ball_tree, leaf_size=25, n_neighbors=3; total time=   0.6s\n",
      "[CV 2/5] END algorithm=ball_tree, leaf_size=25, n_neighbors=3; total time=   0.6s\n",
      "[CV 3/5] END algorithm=ball_tree, leaf_size=25, n_neighbors=3; total time=   0.6s\n",
      "[CV 4/5] END algorithm=ball_tree, leaf_size=25, n_neighbors=3; total time=   0.6s\n",
      "[CV 5/5] END algorithm=ball_tree, leaf_size=25, n_neighbors=3; total time=   0.9s\n",
      "[CV 1/5] END algorithm=ball_tree, leaf_size=25, n_neighbors=5; total time=   0.6s\n",
      "[CV 2/5] END algorithm=ball_tree, leaf_size=25, n_neighbors=5; total time=   0.6s\n",
      "[CV 3/5] END algorithm=ball_tree, leaf_size=25, n_neighbors=5; total time=   0.6s\n",
      "[CV 4/5] END algorithm=ball_tree, leaf_size=25, n_neighbors=5; total time=   0.6s\n",
      "[CV 5/5] END algorithm=ball_tree, leaf_size=25, n_neighbors=5; total time=   0.6s\n",
      "[CV 1/5] END algorithm=ball_tree, leaf_size=25, n_neighbors=7; total time=   0.6s\n",
      "[CV 2/5] END algorithm=ball_tree, leaf_size=25, n_neighbors=7; total time=   0.6s\n",
      "[CV 3/5] END algorithm=ball_tree, leaf_size=25, n_neighbors=7; total time=   0.6s\n",
      "[CV 4/5] END algorithm=ball_tree, leaf_size=25, n_neighbors=7; total time=   0.6s\n",
      "[CV 5/5] END algorithm=ball_tree, leaf_size=25, n_neighbors=7; total time=   0.6s\n",
      "[CV 1/5] END algorithm=ball_tree, leaf_size=25, n_neighbors=9; total time=   0.6s\n",
      "[CV 2/5] END algorithm=ball_tree, leaf_size=25, n_neighbors=9; total time=   0.6s\n",
      "[CV 3/5] END algorithm=ball_tree, leaf_size=25, n_neighbors=9; total time=   0.6s\n",
      "[CV 4/5] END algorithm=ball_tree, leaf_size=25, n_neighbors=9; total time=   0.6s\n"
     ]
    },
    {
     "name": "stdout",
     "output_type": "stream",
     "text": [
      "[CV 5/5] END algorithm=ball_tree, leaf_size=25, n_neighbors=9; total time=   0.6s\n",
      "[CV 1/5] END algorithm=ball_tree, leaf_size=25, n_neighbors=10; total time=   0.7s\n",
      "[CV 2/5] END algorithm=ball_tree, leaf_size=25, n_neighbors=10; total time=   0.6s\n",
      "[CV 3/5] END algorithm=ball_tree, leaf_size=25, n_neighbors=10; total time=   0.6s\n",
      "[CV 4/5] END algorithm=ball_tree, leaf_size=25, n_neighbors=10; total time=   0.6s\n",
      "[CV 5/5] END algorithm=ball_tree, leaf_size=25, n_neighbors=10; total time=   0.6s\n",
      "[CV 1/5] END algorithm=ball_tree, leaf_size=25, n_neighbors=11; total time=   0.7s\n",
      "[CV 2/5] END algorithm=ball_tree, leaf_size=25, n_neighbors=11; total time=   0.9s\n",
      "[CV 3/5] END algorithm=ball_tree, leaf_size=25, n_neighbors=11; total time=   0.6s\n",
      "[CV 4/5] END algorithm=ball_tree, leaf_size=25, n_neighbors=11; total time=   0.6s\n",
      "[CV 5/5] END algorithm=ball_tree, leaf_size=25, n_neighbors=11; total time=   0.6s\n",
      "[CV 1/5] END algorithm=ball_tree, leaf_size=25, n_neighbors=12; total time=   0.7s\n",
      "[CV 2/5] END algorithm=ball_tree, leaf_size=25, n_neighbors=12; total time=   0.6s\n",
      "[CV 3/5] END algorithm=ball_tree, leaf_size=25, n_neighbors=12; total time=   0.6s\n",
      "[CV 4/5] END algorithm=ball_tree, leaf_size=25, n_neighbors=12; total time=   0.7s\n",
      "[CV 5/5] END algorithm=ball_tree, leaf_size=25, n_neighbors=12; total time=   0.6s\n",
      "[CV 1/5] END algorithm=ball_tree, leaf_size=25, n_neighbors=13; total time=   0.7s\n",
      "[CV 2/5] END algorithm=ball_tree, leaf_size=25, n_neighbors=13; total time=   0.7s\n",
      "[CV 3/5] END algorithm=ball_tree, leaf_size=25, n_neighbors=13; total time=   0.6s\n",
      "[CV 4/5] END algorithm=ball_tree, leaf_size=25, n_neighbors=13; total time=   0.6s\n",
      "[CV 5/5] END algorithm=ball_tree, leaf_size=25, n_neighbors=13; total time=   0.6s\n",
      "[CV 1/5] END algorithm=ball_tree, leaf_size=27, n_neighbors=3; total time=   0.7s\n",
      "[CV 2/5] END algorithm=ball_tree, leaf_size=27, n_neighbors=3; total time=   0.6s\n",
      "[CV 3/5] END algorithm=ball_tree, leaf_size=27, n_neighbors=3; total time=   0.8s\n",
      "[CV 4/5] END algorithm=ball_tree, leaf_size=27, n_neighbors=3; total time=   0.7s\n",
      "[CV 5/5] END algorithm=ball_tree, leaf_size=27, n_neighbors=3; total time=   0.8s\n",
      "[CV 1/5] END algorithm=ball_tree, leaf_size=27, n_neighbors=5; total time=   0.8s\n",
      "[CV 2/5] END algorithm=ball_tree, leaf_size=27, n_neighbors=5; total time=   1.1s\n",
      "[CV 3/5] END algorithm=ball_tree, leaf_size=27, n_neighbors=5; total time=   1.0s\n",
      "[CV 4/5] END algorithm=ball_tree, leaf_size=27, n_neighbors=5; total time=   0.8s\n",
      "[CV 5/5] END algorithm=ball_tree, leaf_size=27, n_neighbors=5; total time=   1.1s\n",
      "[CV 1/5] END algorithm=ball_tree, leaf_size=27, n_neighbors=7; total time=   1.4s\n",
      "[CV 2/5] END algorithm=ball_tree, leaf_size=27, n_neighbors=7; total time=   1.1s\n",
      "[CV 3/5] END algorithm=ball_tree, leaf_size=27, n_neighbors=7; total time=   0.8s\n",
      "[CV 4/5] END algorithm=ball_tree, leaf_size=27, n_neighbors=7; total time=   0.8s\n",
      "[CV 5/5] END algorithm=ball_tree, leaf_size=27, n_neighbors=7; total time=   0.8s\n",
      "[CV 1/5] END algorithm=ball_tree, leaf_size=27, n_neighbors=9; total time=   0.8s\n",
      "[CV 2/5] END algorithm=ball_tree, leaf_size=27, n_neighbors=9; total time=   0.7s\n",
      "[CV 3/5] END algorithm=ball_tree, leaf_size=27, n_neighbors=9; total time=   1.1s\n",
      "[CV 4/5] END algorithm=ball_tree, leaf_size=27, n_neighbors=9; total time=   0.8s\n",
      "[CV 5/5] END algorithm=ball_tree, leaf_size=27, n_neighbors=9; total time=   0.7s\n",
      "[CV 1/5] END algorithm=ball_tree, leaf_size=27, n_neighbors=10; total time=   0.9s\n",
      "[CV 2/5] END algorithm=ball_tree, leaf_size=27, n_neighbors=10; total time=   0.7s\n",
      "[CV 3/5] END algorithm=ball_tree, leaf_size=27, n_neighbors=10; total time=   1.1s\n",
      "[CV 4/5] END algorithm=ball_tree, leaf_size=27, n_neighbors=10; total time=   0.7s\n",
      "[CV 5/5] END algorithm=ball_tree, leaf_size=27, n_neighbors=10; total time=   0.7s\n",
      "[CV 1/5] END algorithm=ball_tree, leaf_size=27, n_neighbors=11; total time=   0.7s\n",
      "[CV 2/5] END algorithm=ball_tree, leaf_size=27, n_neighbors=11; total time=   0.7s\n",
      "[CV 3/5] END algorithm=ball_tree, leaf_size=27, n_neighbors=11; total time=   0.6s\n",
      "[CV 4/5] END algorithm=ball_tree, leaf_size=27, n_neighbors=11; total time=   0.7s\n",
      "[CV 5/5] END algorithm=ball_tree, leaf_size=27, n_neighbors=11; total time=   0.7s\n",
      "[CV 1/5] END algorithm=ball_tree, leaf_size=27, n_neighbors=12; total time=   0.7s\n",
      "[CV 2/5] END algorithm=ball_tree, leaf_size=27, n_neighbors=12; total time=   0.7s\n",
      "[CV 3/5] END algorithm=ball_tree, leaf_size=27, n_neighbors=12; total time=   0.7s\n",
      "[CV 4/5] END algorithm=ball_tree, leaf_size=27, n_neighbors=12; total time=   0.8s\n",
      "[CV 5/5] END algorithm=ball_tree, leaf_size=27, n_neighbors=12; total time=   0.8s\n",
      "[CV 1/5] END algorithm=ball_tree, leaf_size=27, n_neighbors=13; total time=   0.8s\n",
      "[CV 2/5] END algorithm=ball_tree, leaf_size=27, n_neighbors=13; total time=   0.9s\n",
      "[CV 3/5] END algorithm=ball_tree, leaf_size=27, n_neighbors=13; total time=   0.7s\n",
      "[CV 4/5] END algorithm=ball_tree, leaf_size=27, n_neighbors=13; total time=   0.8s\n",
      "[CV 5/5] END algorithm=ball_tree, leaf_size=27, n_neighbors=13; total time=   0.7s\n",
      "[CV 1/5] END algorithm=ball_tree, leaf_size=30, n_neighbors=3; total time=   0.8s\n",
      "[CV 2/5] END algorithm=ball_tree, leaf_size=30, n_neighbors=3; total time=   0.9s\n",
      "[CV 3/5] END algorithm=ball_tree, leaf_size=30, n_neighbors=3; total time=   0.6s\n",
      "[CV 4/5] END algorithm=ball_tree, leaf_size=30, n_neighbors=3; total time=   0.8s\n",
      "[CV 5/5] END algorithm=ball_tree, leaf_size=30, n_neighbors=3; total time=   0.6s\n",
      "[CV 1/5] END algorithm=ball_tree, leaf_size=30, n_neighbors=5; total time=   0.8s\n",
      "[CV 2/5] END algorithm=ball_tree, leaf_size=30, n_neighbors=5; total time=   0.8s\n",
      "[CV 3/5] END algorithm=ball_tree, leaf_size=30, n_neighbors=5; total time=   0.7s\n",
      "[CV 4/5] END algorithm=ball_tree, leaf_size=30, n_neighbors=5; total time=   0.7s\n",
      "[CV 5/5] END algorithm=ball_tree, leaf_size=30, n_neighbors=5; total time=   0.7s\n",
      "[CV 1/5] END algorithm=ball_tree, leaf_size=30, n_neighbors=7; total time=   0.8s\n",
      "[CV 2/5] END algorithm=ball_tree, leaf_size=30, n_neighbors=7; total time=   0.7s\n",
      "[CV 3/5] END algorithm=ball_tree, leaf_size=30, n_neighbors=7; total time=   0.7s\n",
      "[CV 4/5] END algorithm=ball_tree, leaf_size=30, n_neighbors=7; total time=   0.7s\n",
      "[CV 5/5] END algorithm=ball_tree, leaf_size=30, n_neighbors=7; total time=   0.7s\n",
      "[CV 1/5] END algorithm=ball_tree, leaf_size=30, n_neighbors=9; total time=   0.8s\n",
      "[CV 2/5] END algorithm=ball_tree, leaf_size=30, n_neighbors=9; total time=   0.8s\n",
      "[CV 3/5] END algorithm=ball_tree, leaf_size=30, n_neighbors=9; total time=   0.7s\n",
      "[CV 4/5] END algorithm=ball_tree, leaf_size=30, n_neighbors=9; total time=   0.7s\n",
      "[CV 5/5] END algorithm=ball_tree, leaf_size=30, n_neighbors=9; total time=   0.7s\n",
      "[CV 1/5] END algorithm=ball_tree, leaf_size=30, n_neighbors=10; total time=   1.2s\n",
      "[CV 2/5] END algorithm=ball_tree, leaf_size=30, n_neighbors=10; total time=   0.8s\n",
      "[CV 3/5] END algorithm=ball_tree, leaf_size=30, n_neighbors=10; total time=   0.7s\n",
      "[CV 4/5] END algorithm=ball_tree, leaf_size=30, n_neighbors=10; total time=   0.7s\n",
      "[CV 5/5] END algorithm=ball_tree, leaf_size=30, n_neighbors=10; total time=   0.7s\n",
      "[CV 1/5] END algorithm=ball_tree, leaf_size=30, n_neighbors=11; total time=   0.7s\n",
      "[CV 2/5] END algorithm=ball_tree, leaf_size=30, n_neighbors=11; total time=   0.7s\n",
      "[CV 3/5] END algorithm=ball_tree, leaf_size=30, n_neighbors=11; total time=   0.7s\n",
      "[CV 4/5] END algorithm=ball_tree, leaf_size=30, n_neighbors=11; total time=   0.8s\n",
      "[CV 5/5] END algorithm=ball_tree, leaf_size=30, n_neighbors=11; total time=   0.8s\n",
      "[CV 1/5] END algorithm=ball_tree, leaf_size=30, n_neighbors=12; total time=   0.7s\n",
      "[CV 2/5] END algorithm=ball_tree, leaf_size=30, n_neighbors=12; total time=   0.7s\n",
      "[CV 3/5] END algorithm=ball_tree, leaf_size=30, n_neighbors=12; total time=   0.7s\n",
      "[CV 4/5] END algorithm=ball_tree, leaf_size=30, n_neighbors=12; total time=   0.8s\n",
      "[CV 5/5] END algorithm=ball_tree, leaf_size=30, n_neighbors=12; total time=   0.8s\n",
      "[CV 1/5] END algorithm=ball_tree, leaf_size=30, n_neighbors=13; total time=   0.7s\n",
      "[CV 2/5] END algorithm=ball_tree, leaf_size=30, n_neighbors=13; total time=   0.7s\n",
      "[CV 3/5] END algorithm=ball_tree, leaf_size=30, n_neighbors=13; total time=   0.8s\n",
      "[CV 4/5] END algorithm=ball_tree, leaf_size=30, n_neighbors=13; total time=   1.0s\n"
     ]
    },
    {
     "name": "stdout",
     "output_type": "stream",
     "text": [
      "[CV 5/5] END algorithm=ball_tree, leaf_size=30, n_neighbors=13; total time=   1.2s\n",
      "[CV 1/5] END algorithm=ball_tree, leaf_size=32, n_neighbors=3; total time=   0.9s\n",
      "[CV 2/5] END algorithm=ball_tree, leaf_size=32, n_neighbors=3; total time=   0.9s\n",
      "[CV 3/5] END algorithm=ball_tree, leaf_size=32, n_neighbors=3; total time=   0.7s\n",
      "[CV 4/5] END algorithm=ball_tree, leaf_size=32, n_neighbors=3; total time=   0.8s\n",
      "[CV 5/5] END algorithm=ball_tree, leaf_size=32, n_neighbors=3; total time=   0.8s\n",
      "[CV 1/5] END algorithm=ball_tree, leaf_size=32, n_neighbors=5; total time=   0.8s\n",
      "[CV 2/5] END algorithm=ball_tree, leaf_size=32, n_neighbors=5; total time=   0.7s\n",
      "[CV 3/5] END algorithm=ball_tree, leaf_size=32, n_neighbors=5; total time=   0.7s\n",
      "[CV 4/5] END algorithm=ball_tree, leaf_size=32, n_neighbors=5; total time=   0.8s\n",
      "[CV 5/5] END algorithm=ball_tree, leaf_size=32, n_neighbors=5; total time=   1.0s\n",
      "[CV 1/5] END algorithm=ball_tree, leaf_size=32, n_neighbors=7; total time=   0.8s\n",
      "[CV 2/5] END algorithm=ball_tree, leaf_size=32, n_neighbors=7; total time=   0.8s\n",
      "[CV 3/5] END algorithm=ball_tree, leaf_size=32, n_neighbors=7; total time=   0.8s\n",
      "[CV 4/5] END algorithm=ball_tree, leaf_size=32, n_neighbors=7; total time=   0.7s\n",
      "[CV 5/5] END algorithm=ball_tree, leaf_size=32, n_neighbors=7; total time=   0.8s\n",
      "[CV 1/5] END algorithm=ball_tree, leaf_size=32, n_neighbors=9; total time=   0.8s\n",
      "[CV 2/5] END algorithm=ball_tree, leaf_size=32, n_neighbors=9; total time=   1.0s\n",
      "[CV 3/5] END algorithm=ball_tree, leaf_size=32, n_neighbors=9; total time=   0.7s\n",
      "[CV 4/5] END algorithm=ball_tree, leaf_size=32, n_neighbors=9; total time=   0.7s\n",
      "[CV 5/5] END algorithm=ball_tree, leaf_size=32, n_neighbors=9; total time=   0.7s\n",
      "[CV 1/5] END algorithm=ball_tree, leaf_size=32, n_neighbors=10; total time=   0.8s\n",
      "[CV 2/5] END algorithm=ball_tree, leaf_size=32, n_neighbors=10; total time=   0.8s\n",
      "[CV 3/5] END algorithm=ball_tree, leaf_size=32, n_neighbors=10; total time=   0.8s\n",
      "[CV 4/5] END algorithm=ball_tree, leaf_size=32, n_neighbors=10; total time=   0.9s\n",
      "[CV 5/5] END algorithm=ball_tree, leaf_size=32, n_neighbors=10; total time=   0.9s\n",
      "[CV 1/5] END algorithm=ball_tree, leaf_size=32, n_neighbors=11; total time=   0.8s\n",
      "[CV 2/5] END algorithm=ball_tree, leaf_size=32, n_neighbors=11; total time=   0.8s\n",
      "[CV 3/5] END algorithm=ball_tree, leaf_size=32, n_neighbors=11; total time=   0.7s\n",
      "[CV 4/5] END algorithm=ball_tree, leaf_size=32, n_neighbors=11; total time=   0.8s\n",
      "[CV 5/5] END algorithm=ball_tree, leaf_size=32, n_neighbors=11; total time=   0.8s\n",
      "[CV 1/5] END algorithm=ball_tree, leaf_size=32, n_neighbors=12; total time=   1.0s\n",
      "[CV 2/5] END algorithm=ball_tree, leaf_size=32, n_neighbors=12; total time=   0.8s\n",
      "[CV 3/5] END algorithm=ball_tree, leaf_size=32, n_neighbors=12; total time=   0.8s\n",
      "[CV 4/5] END algorithm=ball_tree, leaf_size=32, n_neighbors=12; total time=   1.1s\n",
      "[CV 5/5] END algorithm=ball_tree, leaf_size=32, n_neighbors=12; total time=   0.7s\n",
      "[CV 1/5] END algorithm=ball_tree, leaf_size=32, n_neighbors=13; total time=   0.8s\n",
      "[CV 2/5] END algorithm=ball_tree, leaf_size=32, n_neighbors=13; total time=   0.7s\n",
      "[CV 3/5] END algorithm=ball_tree, leaf_size=32, n_neighbors=13; total time=   0.9s\n",
      "[CV 4/5] END algorithm=ball_tree, leaf_size=32, n_neighbors=13; total time=   0.8s\n",
      "[CV 5/5] END algorithm=ball_tree, leaf_size=32, n_neighbors=13; total time=   0.7s\n",
      "[CV 1/5] END algorithm=ball_tree, leaf_size=34, n_neighbors=3; total time=   0.8s\n",
      "[CV 2/5] END algorithm=ball_tree, leaf_size=34, n_neighbors=3; total time=   0.6s\n",
      "[CV 3/5] END algorithm=ball_tree, leaf_size=34, n_neighbors=3; total time=   0.6s\n",
      "[CV 4/5] END algorithm=ball_tree, leaf_size=34, n_neighbors=3; total time=   0.7s\n",
      "[CV 5/5] END algorithm=ball_tree, leaf_size=34, n_neighbors=3; total time=   0.6s\n",
      "[CV 1/5] END algorithm=ball_tree, leaf_size=34, n_neighbors=5; total time=   0.7s\n",
      "[CV 2/5] END algorithm=ball_tree, leaf_size=34, n_neighbors=5; total time=   0.7s\n",
      "[CV 3/5] END algorithm=ball_tree, leaf_size=34, n_neighbors=5; total time=   0.7s\n",
      "[CV 4/5] END algorithm=ball_tree, leaf_size=34, n_neighbors=5; total time=   0.7s\n",
      "[CV 5/5] END algorithm=ball_tree, leaf_size=34, n_neighbors=5; total time=   0.7s\n",
      "[CV 1/5] END algorithm=ball_tree, leaf_size=34, n_neighbors=7; total time=   0.7s\n",
      "[CV 2/5] END algorithm=ball_tree, leaf_size=34, n_neighbors=7; total time=   0.7s\n",
      "[CV 3/5] END algorithm=ball_tree, leaf_size=34, n_neighbors=7; total time=   1.2s\n",
      "[CV 4/5] END algorithm=ball_tree, leaf_size=34, n_neighbors=7; total time=   0.7s\n",
      "[CV 5/5] END algorithm=ball_tree, leaf_size=34, n_neighbors=7; total time=   0.8s\n",
      "[CV 1/5] END algorithm=ball_tree, leaf_size=34, n_neighbors=9; total time=   0.8s\n",
      "[CV 2/5] END algorithm=ball_tree, leaf_size=34, n_neighbors=9; total time=   0.7s\n",
      "[CV 3/5] END algorithm=ball_tree, leaf_size=34, n_neighbors=9; total time=   0.8s\n",
      "[CV 4/5] END algorithm=ball_tree, leaf_size=34, n_neighbors=9; total time=   0.7s\n",
      "[CV 5/5] END algorithm=ball_tree, leaf_size=34, n_neighbors=9; total time=   0.7s\n",
      "[CV 1/5] END algorithm=ball_tree, leaf_size=34, n_neighbors=10; total time=   0.7s\n",
      "[CV 2/5] END algorithm=ball_tree, leaf_size=34, n_neighbors=10; total time=   0.8s\n",
      "[CV 3/5] END algorithm=ball_tree, leaf_size=34, n_neighbors=10; total time=   0.8s\n",
      "[CV 4/5] END algorithm=ball_tree, leaf_size=34, n_neighbors=10; total time=   0.8s\n",
      "[CV 5/5] END algorithm=ball_tree, leaf_size=34, n_neighbors=10; total time=   0.7s\n",
      "[CV 1/5] END algorithm=ball_tree, leaf_size=34, n_neighbors=11; total time=   0.7s\n",
      "[CV 2/5] END algorithm=ball_tree, leaf_size=34, n_neighbors=11; total time=   0.7s\n",
      "[CV 3/5] END algorithm=ball_tree, leaf_size=34, n_neighbors=11; total time=   0.7s\n",
      "[CV 4/5] END algorithm=ball_tree, leaf_size=34, n_neighbors=11; total time=   0.8s\n",
      "[CV 5/5] END algorithm=ball_tree, leaf_size=34, n_neighbors=11; total time=   0.7s\n",
      "[CV 1/5] END algorithm=ball_tree, leaf_size=34, n_neighbors=12; total time=   0.7s\n",
      "[CV 2/5] END algorithm=ball_tree, leaf_size=34, n_neighbors=12; total time=   1.1s\n",
      "[CV 3/5] END algorithm=ball_tree, leaf_size=34, n_neighbors=12; total time=   0.7s\n",
      "[CV 4/5] END algorithm=ball_tree, leaf_size=34, n_neighbors=12; total time=   0.7s\n",
      "[CV 5/5] END algorithm=ball_tree, leaf_size=34, n_neighbors=12; total time=   0.7s\n",
      "[CV 1/5] END algorithm=ball_tree, leaf_size=34, n_neighbors=13; total time=   0.7s\n",
      "[CV 2/5] END algorithm=ball_tree, leaf_size=34, n_neighbors=13; total time=   0.7s\n",
      "[CV 3/5] END algorithm=ball_tree, leaf_size=34, n_neighbors=13; total time=   0.7s\n",
      "[CV 4/5] END algorithm=ball_tree, leaf_size=34, n_neighbors=13; total time=   0.7s\n",
      "[CV 5/5] END algorithm=ball_tree, leaf_size=34, n_neighbors=13; total time=   0.8s\n",
      "[CV 1/5] END .algorithm=kd_tree, leaf_size=18, n_neighbors=3; total time=   0.3s\n",
      "[CV 2/5] END .algorithm=kd_tree, leaf_size=18, n_neighbors=3; total time=   0.2s\n",
      "[CV 3/5] END .algorithm=kd_tree, leaf_size=18, n_neighbors=3; total time=   0.2s\n",
      "[CV 4/5] END .algorithm=kd_tree, leaf_size=18, n_neighbors=3; total time=   0.3s\n",
      "[CV 5/5] END .algorithm=kd_tree, leaf_size=18, n_neighbors=3; total time=   0.3s\n",
      "[CV 1/5] END .algorithm=kd_tree, leaf_size=18, n_neighbors=5; total time=   0.3s\n",
      "[CV 2/5] END .algorithm=kd_tree, leaf_size=18, n_neighbors=5; total time=   0.4s\n",
      "[CV 3/5] END .algorithm=kd_tree, leaf_size=18, n_neighbors=5; total time=   0.3s\n",
      "[CV 4/5] END .algorithm=kd_tree, leaf_size=18, n_neighbors=5; total time=   0.3s\n",
      "[CV 5/5] END .algorithm=kd_tree, leaf_size=18, n_neighbors=5; total time=   0.3s\n",
      "[CV 1/5] END .algorithm=kd_tree, leaf_size=18, n_neighbors=7; total time=   0.4s\n",
      "[CV 2/5] END .algorithm=kd_tree, leaf_size=18, n_neighbors=7; total time=   0.3s\n",
      "[CV 3/5] END .algorithm=kd_tree, leaf_size=18, n_neighbors=7; total time=   0.3s\n",
      "[CV 4/5] END .algorithm=kd_tree, leaf_size=18, n_neighbors=7; total time=   0.3s\n",
      "[CV 5/5] END .algorithm=kd_tree, leaf_size=18, n_neighbors=7; total time=   0.3s\n",
      "[CV 1/5] END .algorithm=kd_tree, leaf_size=18, n_neighbors=9; total time=   0.4s\n",
      "[CV 2/5] END .algorithm=kd_tree, leaf_size=18, n_neighbors=9; total time=   0.4s\n",
      "[CV 3/5] END .algorithm=kd_tree, leaf_size=18, n_neighbors=9; total time=   0.4s\n",
      "[CV 4/5] END .algorithm=kd_tree, leaf_size=18, n_neighbors=9; total time=   0.4s\n"
     ]
    },
    {
     "name": "stdout",
     "output_type": "stream",
     "text": [
      "[CV 5/5] END .algorithm=kd_tree, leaf_size=18, n_neighbors=9; total time=   0.5s\n",
      "[CV 1/5] END algorithm=kd_tree, leaf_size=18, n_neighbors=10; total time=   0.5s\n",
      "[CV 2/5] END algorithm=kd_tree, leaf_size=18, n_neighbors=10; total time=   0.3s\n",
      "[CV 3/5] END algorithm=kd_tree, leaf_size=18, n_neighbors=10; total time=   0.4s\n",
      "[CV 4/5] END algorithm=kd_tree, leaf_size=18, n_neighbors=10; total time=   0.5s\n",
      "[CV 5/5] END algorithm=kd_tree, leaf_size=18, n_neighbors=10; total time=   0.3s\n",
      "[CV 1/5] END algorithm=kd_tree, leaf_size=18, n_neighbors=11; total time=   1.0s\n",
      "[CV 2/5] END algorithm=kd_tree, leaf_size=18, n_neighbors=11; total time=   0.6s\n",
      "[CV 3/5] END algorithm=kd_tree, leaf_size=18, n_neighbors=11; total time=   0.3s\n",
      "[CV 4/5] END algorithm=kd_tree, leaf_size=18, n_neighbors=11; total time=   0.3s\n",
      "[CV 5/5] END algorithm=kd_tree, leaf_size=18, n_neighbors=11; total time=   0.3s\n",
      "[CV 1/5] END algorithm=kd_tree, leaf_size=18, n_neighbors=12; total time=   0.4s\n",
      "[CV 2/5] END algorithm=kd_tree, leaf_size=18, n_neighbors=12; total time=   0.3s\n",
      "[CV 3/5] END algorithm=kd_tree, leaf_size=18, n_neighbors=12; total time=   0.4s\n",
      "[CV 4/5] END algorithm=kd_tree, leaf_size=18, n_neighbors=12; total time=   0.3s\n",
      "[CV 5/5] END algorithm=kd_tree, leaf_size=18, n_neighbors=12; total time=   0.3s\n",
      "[CV 1/5] END algorithm=kd_tree, leaf_size=18, n_neighbors=13; total time=   0.4s\n",
      "[CV 2/5] END algorithm=kd_tree, leaf_size=18, n_neighbors=13; total time=   0.4s\n",
      "[CV 3/5] END algorithm=kd_tree, leaf_size=18, n_neighbors=13; total time=   0.4s\n",
      "[CV 4/5] END algorithm=kd_tree, leaf_size=18, n_neighbors=13; total time=   0.3s\n",
      "[CV 5/5] END algorithm=kd_tree, leaf_size=18, n_neighbors=13; total time=   0.3s\n",
      "[CV 1/5] END .algorithm=kd_tree, leaf_size=20, n_neighbors=3; total time=   0.3s\n",
      "[CV 2/5] END .algorithm=kd_tree, leaf_size=20, n_neighbors=3; total time=   0.3s\n",
      "[CV 3/5] END .algorithm=kd_tree, leaf_size=20, n_neighbors=3; total time=   0.3s\n",
      "[CV 4/5] END .algorithm=kd_tree, leaf_size=20, n_neighbors=3; total time=   0.3s\n",
      "[CV 5/5] END .algorithm=kd_tree, leaf_size=20, n_neighbors=3; total time=   0.2s\n",
      "[CV 1/5] END .algorithm=kd_tree, leaf_size=20, n_neighbors=5; total time=   0.3s\n",
      "[CV 2/5] END .algorithm=kd_tree, leaf_size=20, n_neighbors=5; total time=   0.4s\n",
      "[CV 3/5] END .algorithm=kd_tree, leaf_size=20, n_neighbors=5; total time=   0.3s\n",
      "[CV 4/5] END .algorithm=kd_tree, leaf_size=20, n_neighbors=5; total time=   0.3s\n",
      "[CV 5/5] END .algorithm=kd_tree, leaf_size=20, n_neighbors=5; total time=   0.3s\n",
      "[CV 1/5] END .algorithm=kd_tree, leaf_size=20, n_neighbors=7; total time=   0.3s\n",
      "[CV 2/5] END .algorithm=kd_tree, leaf_size=20, n_neighbors=7; total time=   0.3s\n",
      "[CV 3/5] END .algorithm=kd_tree, leaf_size=20, n_neighbors=7; total time=   0.3s\n",
      "[CV 4/5] END .algorithm=kd_tree, leaf_size=20, n_neighbors=7; total time=   0.4s\n",
      "[CV 5/5] END .algorithm=kd_tree, leaf_size=20, n_neighbors=7; total time=   0.4s\n",
      "[CV 1/5] END .algorithm=kd_tree, leaf_size=20, n_neighbors=9; total time=   0.3s\n",
      "[CV 2/5] END .algorithm=kd_tree, leaf_size=20, n_neighbors=9; total time=   0.3s\n",
      "[CV 3/5] END .algorithm=kd_tree, leaf_size=20, n_neighbors=9; total time=   0.3s\n",
      "[CV 4/5] END .algorithm=kd_tree, leaf_size=20, n_neighbors=9; total time=   0.3s\n",
      "[CV 5/5] END .algorithm=kd_tree, leaf_size=20, n_neighbors=9; total time=   0.3s\n",
      "[CV 1/5] END algorithm=kd_tree, leaf_size=20, n_neighbors=10; total time=   0.4s\n",
      "[CV 2/5] END algorithm=kd_tree, leaf_size=20, n_neighbors=10; total time=   0.3s\n",
      "[CV 3/5] END algorithm=kd_tree, leaf_size=20, n_neighbors=10; total time=   0.4s\n",
      "[CV 4/5] END algorithm=kd_tree, leaf_size=20, n_neighbors=10; total time=   0.3s\n",
      "[CV 5/5] END algorithm=kd_tree, leaf_size=20, n_neighbors=10; total time=   0.3s\n",
      "[CV 1/5] END algorithm=kd_tree, leaf_size=20, n_neighbors=11; total time=   0.4s\n",
      "[CV 2/5] END algorithm=kd_tree, leaf_size=20, n_neighbors=11; total time=   0.3s\n",
      "[CV 3/5] END algorithm=kd_tree, leaf_size=20, n_neighbors=11; total time=   0.4s\n",
      "[CV 4/5] END algorithm=kd_tree, leaf_size=20, n_neighbors=11; total time=   0.5s\n",
      "[CV 5/5] END algorithm=kd_tree, leaf_size=20, n_neighbors=11; total time=   0.4s\n",
      "[CV 1/5] END algorithm=kd_tree, leaf_size=20, n_neighbors=12; total time=   0.4s\n",
      "[CV 2/5] END algorithm=kd_tree, leaf_size=20, n_neighbors=12; total time=   0.4s\n",
      "[CV 3/5] END algorithm=kd_tree, leaf_size=20, n_neighbors=12; total time=   0.3s\n",
      "[CV 4/5] END algorithm=kd_tree, leaf_size=20, n_neighbors=12; total time=   0.3s\n",
      "[CV 5/5] END algorithm=kd_tree, leaf_size=20, n_neighbors=12; total time=   0.3s\n",
      "[CV 1/5] END algorithm=kd_tree, leaf_size=20, n_neighbors=13; total time=   0.5s\n",
      "[CV 2/5] END algorithm=kd_tree, leaf_size=20, n_neighbors=13; total time=   0.4s\n",
      "[CV 3/5] END algorithm=kd_tree, leaf_size=20, n_neighbors=13; total time=   0.3s\n",
      "[CV 4/5] END algorithm=kd_tree, leaf_size=20, n_neighbors=13; total time=   0.3s\n",
      "[CV 5/5] END algorithm=kd_tree, leaf_size=20, n_neighbors=13; total time=   0.3s\n",
      "[CV 1/5] END .algorithm=kd_tree, leaf_size=25, n_neighbors=3; total time=   0.3s\n",
      "[CV 2/5] END .algorithm=kd_tree, leaf_size=25, n_neighbors=3; total time=   0.2s\n",
      "[CV 3/5] END .algorithm=kd_tree, leaf_size=25, n_neighbors=3; total time=   0.3s\n",
      "[CV 4/5] END .algorithm=kd_tree, leaf_size=25, n_neighbors=3; total time=   0.2s\n",
      "[CV 5/5] END .algorithm=kd_tree, leaf_size=25, n_neighbors=3; total time=   0.3s\n",
      "[CV 1/5] END .algorithm=kd_tree, leaf_size=25, n_neighbors=5; total time=   0.3s\n",
      "[CV 2/5] END .algorithm=kd_tree, leaf_size=25, n_neighbors=5; total time=   0.3s\n",
      "[CV 3/5] END .algorithm=kd_tree, leaf_size=25, n_neighbors=5; total time=   0.3s\n",
      "[CV 4/5] END .algorithm=kd_tree, leaf_size=25, n_neighbors=5; total time=   0.3s\n",
      "[CV 5/5] END .algorithm=kd_tree, leaf_size=25, n_neighbors=5; total time=   0.4s\n",
      "[CV 1/5] END .algorithm=kd_tree, leaf_size=25, n_neighbors=7; total time=   0.4s\n",
      "[CV 2/5] END .algorithm=kd_tree, leaf_size=25, n_neighbors=7; total time=   0.3s\n",
      "[CV 3/5] END .algorithm=kd_tree, leaf_size=25, n_neighbors=7; total time=   0.3s\n",
      "[CV 4/5] END .algorithm=kd_tree, leaf_size=25, n_neighbors=7; total time=   0.4s\n",
      "[CV 5/5] END .algorithm=kd_tree, leaf_size=25, n_neighbors=7; total time=   0.3s\n",
      "[CV 1/5] END .algorithm=kd_tree, leaf_size=25, n_neighbors=9; total time=   0.3s\n",
      "[CV 2/5] END .algorithm=kd_tree, leaf_size=25, n_neighbors=9; total time=   0.3s\n",
      "[CV 3/5] END .algorithm=kd_tree, leaf_size=25, n_neighbors=9; total time=   0.3s\n",
      "[CV 4/5] END .algorithm=kd_tree, leaf_size=25, n_neighbors=9; total time=   0.4s\n",
      "[CV 5/5] END .algorithm=kd_tree, leaf_size=25, n_neighbors=9; total time=   0.3s\n",
      "[CV 1/5] END algorithm=kd_tree, leaf_size=25, n_neighbors=10; total time=   0.3s\n",
      "[CV 2/5] END algorithm=kd_tree, leaf_size=25, n_neighbors=10; total time=   0.3s\n",
      "[CV 3/5] END algorithm=kd_tree, leaf_size=25, n_neighbors=10; total time=   0.3s\n",
      "[CV 4/5] END algorithm=kd_tree, leaf_size=25, n_neighbors=10; total time=   0.3s\n",
      "[CV 5/5] END algorithm=kd_tree, leaf_size=25, n_neighbors=10; total time=   0.3s\n",
      "[CV 1/5] END algorithm=kd_tree, leaf_size=25, n_neighbors=11; total time=   0.4s\n",
      "[CV 2/5] END algorithm=kd_tree, leaf_size=25, n_neighbors=11; total time=   0.3s\n",
      "[CV 3/5] END algorithm=kd_tree, leaf_size=25, n_neighbors=11; total time=   0.4s\n",
      "[CV 4/5] END algorithm=kd_tree, leaf_size=25, n_neighbors=11; total time=   0.3s\n",
      "[CV 5/5] END algorithm=kd_tree, leaf_size=25, n_neighbors=11; total time=   0.3s\n",
      "[CV 1/5] END algorithm=kd_tree, leaf_size=25, n_neighbors=12; total time=   0.4s\n",
      "[CV 2/5] END algorithm=kd_tree, leaf_size=25, n_neighbors=12; total time=   0.4s\n",
      "[CV 3/5] END algorithm=kd_tree, leaf_size=25, n_neighbors=12; total time=   0.4s\n",
      "[CV 4/5] END algorithm=kd_tree, leaf_size=25, n_neighbors=12; total time=   0.3s\n",
      "[CV 5/5] END algorithm=kd_tree, leaf_size=25, n_neighbors=12; total time=   0.3s\n",
      "[CV 1/5] END algorithm=kd_tree, leaf_size=25, n_neighbors=13; total time=   0.3s\n",
      "[CV 2/5] END algorithm=kd_tree, leaf_size=25, n_neighbors=13; total time=   0.3s\n",
      "[CV 3/5] END algorithm=kd_tree, leaf_size=25, n_neighbors=13; total time=   0.4s\n",
      "[CV 4/5] END algorithm=kd_tree, leaf_size=25, n_neighbors=13; total time=   0.3s\n",
      "[CV 5/5] END algorithm=kd_tree, leaf_size=25, n_neighbors=13; total time=   0.3s\n",
      "[CV 1/5] END .algorithm=kd_tree, leaf_size=27, n_neighbors=3; total time=   0.2s\n"
     ]
    },
    {
     "name": "stdout",
     "output_type": "stream",
     "text": [
      "[CV 2/5] END .algorithm=kd_tree, leaf_size=27, n_neighbors=3; total time=   0.3s\n",
      "[CV 3/5] END .algorithm=kd_tree, leaf_size=27, n_neighbors=3; total time=   0.2s\n",
      "[CV 4/5] END .algorithm=kd_tree, leaf_size=27, n_neighbors=3; total time=   0.2s\n",
      "[CV 5/5] END .algorithm=kd_tree, leaf_size=27, n_neighbors=3; total time=   0.3s\n",
      "[CV 1/5] END .algorithm=kd_tree, leaf_size=27, n_neighbors=5; total time=   0.3s\n",
      "[CV 2/5] END .algorithm=kd_tree, leaf_size=27, n_neighbors=5; total time=   0.3s\n",
      "[CV 3/5] END .algorithm=kd_tree, leaf_size=27, n_neighbors=5; total time=   0.4s\n",
      "[CV 4/5] END .algorithm=kd_tree, leaf_size=27, n_neighbors=5; total time=   0.3s\n",
      "[CV 5/5] END .algorithm=kd_tree, leaf_size=27, n_neighbors=5; total time=   0.3s\n",
      "[CV 1/5] END .algorithm=kd_tree, leaf_size=27, n_neighbors=7; total time=   0.3s\n",
      "[CV 2/5] END .algorithm=kd_tree, leaf_size=27, n_neighbors=7; total time=   0.3s\n",
      "[CV 3/5] END .algorithm=kd_tree, leaf_size=27, n_neighbors=7; total time=   0.3s\n",
      "[CV 4/5] END .algorithm=kd_tree, leaf_size=27, n_neighbors=7; total time=   0.3s\n",
      "[CV 5/5] END .algorithm=kd_tree, leaf_size=27, n_neighbors=7; total time=   0.3s\n",
      "[CV 1/5] END .algorithm=kd_tree, leaf_size=27, n_neighbors=9; total time=   0.3s\n",
      "[CV 2/5] END .algorithm=kd_tree, leaf_size=27, n_neighbors=9; total time=   0.3s\n",
      "[CV 3/5] END .algorithm=kd_tree, leaf_size=27, n_neighbors=9; total time=   0.3s\n",
      "[CV 4/5] END .algorithm=kd_tree, leaf_size=27, n_neighbors=9; total time=   0.3s\n",
      "[CV 5/5] END .algorithm=kd_tree, leaf_size=27, n_neighbors=9; total time=   0.4s\n",
      "[CV 1/5] END algorithm=kd_tree, leaf_size=27, n_neighbors=10; total time=   0.3s\n",
      "[CV 2/5] END algorithm=kd_tree, leaf_size=27, n_neighbors=10; total time=   0.3s\n",
      "[CV 3/5] END algorithm=kd_tree, leaf_size=27, n_neighbors=10; total time=   0.3s\n",
      "[CV 4/5] END algorithm=kd_tree, leaf_size=27, n_neighbors=10; total time=   0.3s\n",
      "[CV 5/5] END algorithm=kd_tree, leaf_size=27, n_neighbors=10; total time=   0.3s\n",
      "[CV 1/5] END algorithm=kd_tree, leaf_size=27, n_neighbors=11; total time=   0.4s\n",
      "[CV 2/5] END algorithm=kd_tree, leaf_size=27, n_neighbors=11; total time=   0.3s\n",
      "[CV 3/5] END algorithm=kd_tree, leaf_size=27, n_neighbors=11; total time=   0.4s\n",
      "[CV 4/5] END algorithm=kd_tree, leaf_size=27, n_neighbors=11; total time=   0.4s\n",
      "[CV 5/5] END algorithm=kd_tree, leaf_size=27, n_neighbors=11; total time=   0.4s\n",
      "[CV 1/5] END algorithm=kd_tree, leaf_size=27, n_neighbors=12; total time=   0.3s\n",
      "[CV 2/5] END algorithm=kd_tree, leaf_size=27, n_neighbors=12; total time=   0.3s\n",
      "[CV 3/5] END algorithm=kd_tree, leaf_size=27, n_neighbors=12; total time=   0.3s\n",
      "[CV 4/5] END algorithm=kd_tree, leaf_size=27, n_neighbors=12; total time=   0.3s\n",
      "[CV 5/5] END algorithm=kd_tree, leaf_size=27, n_neighbors=12; total time=   0.3s\n",
      "[CV 1/5] END algorithm=kd_tree, leaf_size=27, n_neighbors=13; total time=   0.4s\n",
      "[CV 2/5] END algorithm=kd_tree, leaf_size=27, n_neighbors=13; total time=   0.3s\n",
      "[CV 3/5] END algorithm=kd_tree, leaf_size=27, n_neighbors=13; total time=   0.3s\n",
      "[CV 4/5] END algorithm=kd_tree, leaf_size=27, n_neighbors=13; total time=   0.3s\n",
      "[CV 5/5] END algorithm=kd_tree, leaf_size=27, n_neighbors=13; total time=   0.3s\n",
      "[CV 1/5] END .algorithm=kd_tree, leaf_size=30, n_neighbors=3; total time=   0.3s\n",
      "[CV 2/5] END .algorithm=kd_tree, leaf_size=30, n_neighbors=3; total time=   0.3s\n",
      "[CV 3/5] END .algorithm=kd_tree, leaf_size=30, n_neighbors=3; total time=   0.2s\n",
      "[CV 4/5] END .algorithm=kd_tree, leaf_size=30, n_neighbors=3; total time=   0.2s\n",
      "[CV 5/5] END .algorithm=kd_tree, leaf_size=30, n_neighbors=3; total time=   0.2s\n",
      "[CV 1/5] END .algorithm=kd_tree, leaf_size=30, n_neighbors=5; total time=   0.3s\n",
      "[CV 2/5] END .algorithm=kd_tree, leaf_size=30, n_neighbors=5; total time=   0.4s\n",
      "[CV 3/5] END .algorithm=kd_tree, leaf_size=30, n_neighbors=5; total time=   0.3s\n",
      "[CV 4/5] END .algorithm=kd_tree, leaf_size=30, n_neighbors=5; total time=   0.3s\n",
      "[CV 5/5] END .algorithm=kd_tree, leaf_size=30, n_neighbors=5; total time=   0.3s\n",
      "[CV 1/5] END .algorithm=kd_tree, leaf_size=30, n_neighbors=7; total time=   0.3s\n",
      "[CV 2/5] END .algorithm=kd_tree, leaf_size=30, n_neighbors=7; total time=   0.3s\n",
      "[CV 3/5] END .algorithm=kd_tree, leaf_size=30, n_neighbors=7; total time=   0.3s\n",
      "[CV 4/5] END .algorithm=kd_tree, leaf_size=30, n_neighbors=7; total time=   0.3s\n",
      "[CV 5/5] END .algorithm=kd_tree, leaf_size=30, n_neighbors=7; total time=   0.3s\n",
      "[CV 1/5] END .algorithm=kd_tree, leaf_size=30, n_neighbors=9; total time=   0.3s\n",
      "[CV 2/5] END .algorithm=kd_tree, leaf_size=30, n_neighbors=9; total time=   0.3s\n",
      "[CV 3/5] END .algorithm=kd_tree, leaf_size=30, n_neighbors=9; total time=   0.3s\n",
      "[CV 4/5] END .algorithm=kd_tree, leaf_size=30, n_neighbors=9; total time=   0.3s\n",
      "[CV 5/5] END .algorithm=kd_tree, leaf_size=30, n_neighbors=9; total time=   0.3s\n",
      "[CV 1/5] END algorithm=kd_tree, leaf_size=30, n_neighbors=10; total time=   0.3s\n",
      "[CV 2/5] END algorithm=kd_tree, leaf_size=30, n_neighbors=10; total time=   0.3s\n",
      "[CV 3/5] END algorithm=kd_tree, leaf_size=30, n_neighbors=10; total time=   0.3s\n",
      "[CV 4/5] END algorithm=kd_tree, leaf_size=30, n_neighbors=10; total time=   0.3s\n",
      "[CV 5/5] END algorithm=kd_tree, leaf_size=30, n_neighbors=10; total time=   0.3s\n",
      "[CV 1/5] END algorithm=kd_tree, leaf_size=30, n_neighbors=11; total time=   0.3s\n",
      "[CV 2/5] END algorithm=kd_tree, leaf_size=30, n_neighbors=11; total time=   0.3s\n",
      "[CV 3/5] END algorithm=kd_tree, leaf_size=30, n_neighbors=11; total time=   0.3s\n",
      "[CV 4/5] END algorithm=kd_tree, leaf_size=30, n_neighbors=11; total time=   0.3s\n",
      "[CV 5/5] END algorithm=kd_tree, leaf_size=30, n_neighbors=11; total time=   0.3s\n",
      "[CV 1/5] END algorithm=kd_tree, leaf_size=30, n_neighbors=12; total time=   0.4s\n",
      "[CV 2/5] END algorithm=kd_tree, leaf_size=30, n_neighbors=12; total time=   0.3s\n",
      "[CV 3/5] END algorithm=kd_tree, leaf_size=30, n_neighbors=12; total time=   0.4s\n",
      "[CV 4/5] END algorithm=kd_tree, leaf_size=30, n_neighbors=12; total time=   0.3s\n",
      "[CV 5/5] END algorithm=kd_tree, leaf_size=30, n_neighbors=12; total time=   0.3s\n",
      "[CV 1/5] END algorithm=kd_tree, leaf_size=30, n_neighbors=13; total time=   0.5s\n",
      "[CV 2/5] END algorithm=kd_tree, leaf_size=30, n_neighbors=13; total time=   0.3s\n",
      "[CV 3/5] END algorithm=kd_tree, leaf_size=30, n_neighbors=13; total time=   0.3s\n",
      "[CV 4/5] END algorithm=kd_tree, leaf_size=30, n_neighbors=13; total time=   0.3s\n",
      "[CV 5/5] END algorithm=kd_tree, leaf_size=30, n_neighbors=13; total time=   0.3s\n",
      "[CV 1/5] END .algorithm=kd_tree, leaf_size=32, n_neighbors=3; total time=   0.2s\n",
      "[CV 2/5] END .algorithm=kd_tree, leaf_size=32, n_neighbors=3; total time=   0.2s\n",
      "[CV 3/5] END .algorithm=kd_tree, leaf_size=32, n_neighbors=3; total time=   0.2s\n",
      "[CV 4/5] END .algorithm=kd_tree, leaf_size=32, n_neighbors=3; total time=   0.2s\n",
      "[CV 5/5] END .algorithm=kd_tree, leaf_size=32, n_neighbors=3; total time=   0.2s\n",
      "[CV 1/5] END .algorithm=kd_tree, leaf_size=32, n_neighbors=5; total time=   0.4s\n",
      "[CV 2/5] END .algorithm=kd_tree, leaf_size=32, n_neighbors=5; total time=   0.4s\n",
      "[CV 3/5] END .algorithm=kd_tree, leaf_size=32, n_neighbors=5; total time=   0.3s\n",
      "[CV 4/5] END .algorithm=kd_tree, leaf_size=32, n_neighbors=5; total time=   0.3s\n",
      "[CV 5/5] END .algorithm=kd_tree, leaf_size=32, n_neighbors=5; total time=   0.3s\n",
      "[CV 1/5] END .algorithm=kd_tree, leaf_size=32, n_neighbors=7; total time=   0.3s\n",
      "[CV 2/5] END .algorithm=kd_tree, leaf_size=32, n_neighbors=7; total time=   0.3s\n",
      "[CV 3/5] END .algorithm=kd_tree, leaf_size=32, n_neighbors=7; total time=   0.3s\n",
      "[CV 4/5] END .algorithm=kd_tree, leaf_size=32, n_neighbors=7; total time=   0.4s\n",
      "[CV 5/5] END .algorithm=kd_tree, leaf_size=32, n_neighbors=7; total time=   0.3s\n",
      "[CV 1/5] END .algorithm=kd_tree, leaf_size=32, n_neighbors=9; total time=   0.3s\n",
      "[CV 2/5] END .algorithm=kd_tree, leaf_size=32, n_neighbors=9; total time=   0.3s\n",
      "[CV 3/5] END .algorithm=kd_tree, leaf_size=32, n_neighbors=9; total time=   0.3s\n",
      "[CV 4/5] END .algorithm=kd_tree, leaf_size=32, n_neighbors=9; total time=   0.3s\n",
      "[CV 5/5] END .algorithm=kd_tree, leaf_size=32, n_neighbors=9; total time=   0.3s\n",
      "[CV 1/5] END algorithm=kd_tree, leaf_size=32, n_neighbors=10; total time=   0.3s\n",
      "[CV 2/5] END algorithm=kd_tree, leaf_size=32, n_neighbors=10; total time=   0.3s\n",
      "[CV 3/5] END algorithm=kd_tree, leaf_size=32, n_neighbors=10; total time=   0.4s\n"
     ]
    },
    {
     "name": "stdout",
     "output_type": "stream",
     "text": [
      "[CV 4/5] END algorithm=kd_tree, leaf_size=32, n_neighbors=10; total time=   0.3s\n",
      "[CV 5/5] END algorithm=kd_tree, leaf_size=32, n_neighbors=10; total time=   0.3s\n",
      "[CV 1/5] END algorithm=kd_tree, leaf_size=32, n_neighbors=11; total time=   0.3s\n",
      "[CV 2/5] END algorithm=kd_tree, leaf_size=32, n_neighbors=11; total time=   0.3s\n",
      "[CV 3/5] END algorithm=kd_tree, leaf_size=32, n_neighbors=11; total time=   0.3s\n",
      "[CV 4/5] END algorithm=kd_tree, leaf_size=32, n_neighbors=11; total time=   0.4s\n",
      "[CV 5/5] END algorithm=kd_tree, leaf_size=32, n_neighbors=11; total time=   0.3s\n",
      "[CV 1/5] END algorithm=kd_tree, leaf_size=32, n_neighbors=12; total time=   0.3s\n",
      "[CV 2/5] END algorithm=kd_tree, leaf_size=32, n_neighbors=12; total time=   0.3s\n",
      "[CV 3/5] END algorithm=kd_tree, leaf_size=32, n_neighbors=12; total time=   0.3s\n",
      "[CV 4/5] END algorithm=kd_tree, leaf_size=32, n_neighbors=12; total time=   0.3s\n",
      "[CV 5/5] END algorithm=kd_tree, leaf_size=32, n_neighbors=12; total time=   0.3s\n",
      "[CV 1/5] END algorithm=kd_tree, leaf_size=32, n_neighbors=13; total time=   0.3s\n",
      "[CV 2/5] END algorithm=kd_tree, leaf_size=32, n_neighbors=13; total time=   0.3s\n",
      "[CV 3/5] END algorithm=kd_tree, leaf_size=32, n_neighbors=13; total time=   0.3s\n",
      "[CV 4/5] END algorithm=kd_tree, leaf_size=32, n_neighbors=13; total time=   0.3s\n",
      "[CV 5/5] END algorithm=kd_tree, leaf_size=32, n_neighbors=13; total time=   0.3s\n",
      "[CV 1/5] END .algorithm=kd_tree, leaf_size=34, n_neighbors=3; total time=   0.2s\n",
      "[CV 2/5] END .algorithm=kd_tree, leaf_size=34, n_neighbors=3; total time=   0.2s\n",
      "[CV 3/5] END .algorithm=kd_tree, leaf_size=34, n_neighbors=3; total time=   0.3s\n",
      "[CV 4/5] END .algorithm=kd_tree, leaf_size=34, n_neighbors=3; total time=   0.3s\n",
      "[CV 5/5] END .algorithm=kd_tree, leaf_size=34, n_neighbors=3; total time=   0.3s\n",
      "[CV 1/5] END .algorithm=kd_tree, leaf_size=34, n_neighbors=5; total time=   0.4s\n",
      "[CV 2/5] END .algorithm=kd_tree, leaf_size=34, n_neighbors=5; total time=   0.3s\n",
      "[CV 3/5] END .algorithm=kd_tree, leaf_size=34, n_neighbors=5; total time=   0.3s\n",
      "[CV 4/5] END .algorithm=kd_tree, leaf_size=34, n_neighbors=5; total time=   0.3s\n",
      "[CV 5/5] END .algorithm=kd_tree, leaf_size=34, n_neighbors=5; total time=   0.3s\n",
      "[CV 1/5] END .algorithm=kd_tree, leaf_size=34, n_neighbors=7; total time=   0.3s\n",
      "[CV 2/5] END .algorithm=kd_tree, leaf_size=34, n_neighbors=7; total time=   0.3s\n",
      "[CV 3/5] END .algorithm=kd_tree, leaf_size=34, n_neighbors=7; total time=   0.3s\n",
      "[CV 4/5] END .algorithm=kd_tree, leaf_size=34, n_neighbors=7; total time=   0.3s\n",
      "[CV 5/5] END .algorithm=kd_tree, leaf_size=34, n_neighbors=7; total time=   0.3s\n",
      "[CV 1/5] END .algorithm=kd_tree, leaf_size=34, n_neighbors=9; total time=   0.3s\n",
      "[CV 2/5] END .algorithm=kd_tree, leaf_size=34, n_neighbors=9; total time=   0.3s\n",
      "[CV 3/5] END .algorithm=kd_tree, leaf_size=34, n_neighbors=9; total time=   0.3s\n",
      "[CV 4/5] END .algorithm=kd_tree, leaf_size=34, n_neighbors=9; total time=   0.3s\n",
      "[CV 5/5] END .algorithm=kd_tree, leaf_size=34, n_neighbors=9; total time=   0.3s\n",
      "[CV 1/5] END algorithm=kd_tree, leaf_size=34, n_neighbors=10; total time=   0.3s\n",
      "[CV 2/5] END algorithm=kd_tree, leaf_size=34, n_neighbors=10; total time=   0.3s\n",
      "[CV 3/5] END algorithm=kd_tree, leaf_size=34, n_neighbors=10; total time=   0.3s\n",
      "[CV 4/5] END algorithm=kd_tree, leaf_size=34, n_neighbors=10; total time=   0.3s\n",
      "[CV 5/5] END algorithm=kd_tree, leaf_size=34, n_neighbors=10; total time=   0.3s\n",
      "[CV 1/5] END algorithm=kd_tree, leaf_size=34, n_neighbors=11; total time=   0.3s\n",
      "[CV 2/5] END algorithm=kd_tree, leaf_size=34, n_neighbors=11; total time=   0.3s\n",
      "[CV 3/5] END algorithm=kd_tree, leaf_size=34, n_neighbors=11; total time=   0.3s\n",
      "[CV 4/5] END algorithm=kd_tree, leaf_size=34, n_neighbors=11; total time=   0.3s\n",
      "[CV 5/5] END algorithm=kd_tree, leaf_size=34, n_neighbors=11; total time=   0.3s\n",
      "[CV 1/5] END algorithm=kd_tree, leaf_size=34, n_neighbors=12; total time=   0.3s\n",
      "[CV 2/5] END algorithm=kd_tree, leaf_size=34, n_neighbors=12; total time=   0.3s\n",
      "[CV 3/5] END algorithm=kd_tree, leaf_size=34, n_neighbors=12; total time=   0.3s\n",
      "[CV 4/5] END algorithm=kd_tree, leaf_size=34, n_neighbors=12; total time=   0.3s\n",
      "[CV 5/5] END algorithm=kd_tree, leaf_size=34, n_neighbors=12; total time=   0.3s\n",
      "[CV 1/5] END algorithm=kd_tree, leaf_size=34, n_neighbors=13; total time=   0.3s\n",
      "[CV 2/5] END algorithm=kd_tree, leaf_size=34, n_neighbors=13; total time=   0.3s\n",
      "[CV 3/5] END algorithm=kd_tree, leaf_size=34, n_neighbors=13; total time=   0.3s\n",
      "[CV 4/5] END algorithm=kd_tree, leaf_size=34, n_neighbors=13; total time=   0.3s\n",
      "[CV 5/5] END algorithm=kd_tree, leaf_size=34, n_neighbors=13; total time=   0.4s\n",
      "[CV 1/5] END ...algorithm=brute, leaf_size=18, n_neighbors=3; total time=   0.7s\n",
      "[CV 2/5] END ...algorithm=brute, leaf_size=18, n_neighbors=3; total time=   0.8s\n",
      "[CV 3/5] END ...algorithm=brute, leaf_size=18, n_neighbors=3; total time=   0.9s\n",
      "[CV 4/5] END ...algorithm=brute, leaf_size=18, n_neighbors=3; total time=   0.8s\n",
      "[CV 5/5] END ...algorithm=brute, leaf_size=18, n_neighbors=3; total time=   0.8s\n",
      "[CV 1/5] END ...algorithm=brute, leaf_size=18, n_neighbors=5; total time=   1.0s\n",
      "[CV 2/5] END ...algorithm=brute, leaf_size=18, n_neighbors=5; total time=   1.0s\n",
      "[CV 3/5] END ...algorithm=brute, leaf_size=18, n_neighbors=5; total time=   1.1s\n",
      "[CV 4/5] END ...algorithm=brute, leaf_size=18, n_neighbors=5; total time=   1.0s\n",
      "[CV 5/5] END ...algorithm=brute, leaf_size=18, n_neighbors=5; total time=   1.0s\n",
      "[CV 1/5] END ...algorithm=brute, leaf_size=18, n_neighbors=7; total time=   1.1s\n",
      "[CV 2/5] END ...algorithm=brute, leaf_size=18, n_neighbors=7; total time=   1.0s\n",
      "[CV 3/5] END ...algorithm=brute, leaf_size=18, n_neighbors=7; total time=   1.1s\n",
      "[CV 4/5] END ...algorithm=brute, leaf_size=18, n_neighbors=7; total time=   1.1s\n",
      "[CV 5/5] END ...algorithm=brute, leaf_size=18, n_neighbors=7; total time=   1.0s\n",
      "[CV 1/5] END ...algorithm=brute, leaf_size=18, n_neighbors=9; total time=   1.1s\n",
      "[CV 2/5] END ...algorithm=brute, leaf_size=18, n_neighbors=9; total time=   1.1s\n",
      "[CV 3/5] END ...algorithm=brute, leaf_size=18, n_neighbors=9; total time=   1.1s\n",
      "[CV 4/5] END ...algorithm=brute, leaf_size=18, n_neighbors=9; total time=   1.1s\n",
      "[CV 5/5] END ...algorithm=brute, leaf_size=18, n_neighbors=9; total time=   1.0s\n",
      "[CV 1/5] END ..algorithm=brute, leaf_size=18, n_neighbors=10; total time=   1.0s\n",
      "[CV 2/5] END ..algorithm=brute, leaf_size=18, n_neighbors=10; total time=   1.0s\n",
      "[CV 3/5] END ..algorithm=brute, leaf_size=18, n_neighbors=10; total time=   1.0s\n",
      "[CV 4/5] END ..algorithm=brute, leaf_size=18, n_neighbors=10; total time=   1.1s\n",
      "[CV 5/5] END ..algorithm=brute, leaf_size=18, n_neighbors=10; total time=   1.0s\n",
      "[CV 1/5] END ..algorithm=brute, leaf_size=18, n_neighbors=11; total time=   1.1s\n",
      "[CV 2/5] END ..algorithm=brute, leaf_size=18, n_neighbors=11; total time=   1.0s\n",
      "[CV 3/5] END ..algorithm=brute, leaf_size=18, n_neighbors=11; total time=   1.0s\n",
      "[CV 4/5] END ..algorithm=brute, leaf_size=18, n_neighbors=11; total time=   1.1s\n",
      "[CV 5/5] END ..algorithm=brute, leaf_size=18, n_neighbors=11; total time=   1.1s\n",
      "[CV 1/5] END ..algorithm=brute, leaf_size=18, n_neighbors=12; total time=   1.1s\n",
      "[CV 2/5] END ..algorithm=brute, leaf_size=18, n_neighbors=12; total time=   1.0s\n",
      "[CV 3/5] END ..algorithm=brute, leaf_size=18, n_neighbors=12; total time=   1.1s\n",
      "[CV 4/5] END ..algorithm=brute, leaf_size=18, n_neighbors=12; total time=   1.2s\n",
      "[CV 5/5] END ..algorithm=brute, leaf_size=18, n_neighbors=12; total time=   1.0s\n",
      "[CV 1/5] END ..algorithm=brute, leaf_size=18, n_neighbors=13; total time=   1.0s\n",
      "[CV 2/5] END ..algorithm=brute, leaf_size=18, n_neighbors=13; total time=   1.0s\n",
      "[CV 3/5] END ..algorithm=brute, leaf_size=18, n_neighbors=13; total time=   1.1s\n",
      "[CV 4/5] END ..algorithm=brute, leaf_size=18, n_neighbors=13; total time=   1.1s\n",
      "[CV 5/5] END ..algorithm=brute, leaf_size=18, n_neighbors=13; total time=   1.0s\n",
      "[CV 1/5] END ...algorithm=brute, leaf_size=20, n_neighbors=3; total time=   0.8s\n",
      "[CV 2/5] END ...algorithm=brute, leaf_size=20, n_neighbors=3; total time=   0.8s\n",
      "[CV 3/5] END ...algorithm=brute, leaf_size=20, n_neighbors=3; total time=   0.8s\n",
      "[CV 4/5] END ...algorithm=brute, leaf_size=20, n_neighbors=3; total time=   0.7s\n",
      "[CV 5/5] END ...algorithm=brute, leaf_size=20, n_neighbors=3; total time=   0.8s\n"
     ]
    },
    {
     "name": "stdout",
     "output_type": "stream",
     "text": [
      "[CV 1/5] END ...algorithm=brute, leaf_size=20, n_neighbors=5; total time=   1.2s\n",
      "[CV 2/5] END ...algorithm=brute, leaf_size=20, n_neighbors=5; total time=   1.1s\n",
      "[CV 3/5] END ...algorithm=brute, leaf_size=20, n_neighbors=5; total time=   1.1s\n",
      "[CV 4/5] END ...algorithm=brute, leaf_size=20, n_neighbors=5; total time=   1.2s\n",
      "[CV 5/5] END ...algorithm=brute, leaf_size=20, n_neighbors=5; total time=   1.1s\n",
      "[CV 1/5] END ...algorithm=brute, leaf_size=20, n_neighbors=7; total time=   1.1s\n",
      "[CV 2/5] END ...algorithm=brute, leaf_size=20, n_neighbors=7; total time=   1.1s\n",
      "[CV 3/5] END ...algorithm=brute, leaf_size=20, n_neighbors=7; total time=   1.1s\n",
      "[CV 4/5] END ...algorithm=brute, leaf_size=20, n_neighbors=7; total time=   1.1s\n",
      "[CV 5/5] END ...algorithm=brute, leaf_size=20, n_neighbors=7; total time=   1.1s\n",
      "[CV 1/5] END ...algorithm=brute, leaf_size=20, n_neighbors=9; total time=   1.1s\n",
      "[CV 2/5] END ...algorithm=brute, leaf_size=20, n_neighbors=9; total time=   1.0s\n",
      "[CV 3/5] END ...algorithm=brute, leaf_size=20, n_neighbors=9; total time=   1.0s\n",
      "[CV 4/5] END ...algorithm=brute, leaf_size=20, n_neighbors=9; total time=   1.1s\n",
      "[CV 5/5] END ...algorithm=brute, leaf_size=20, n_neighbors=9; total time=   1.1s\n",
      "[CV 1/5] END ..algorithm=brute, leaf_size=20, n_neighbors=10; total time=   1.0s\n",
      "[CV 2/5] END ..algorithm=brute, leaf_size=20, n_neighbors=10; total time=   1.0s\n",
      "[CV 3/5] END ..algorithm=brute, leaf_size=20, n_neighbors=10; total time=   1.1s\n",
      "[CV 4/5] END ..algorithm=brute, leaf_size=20, n_neighbors=10; total time=   1.1s\n",
      "[CV 5/5] END ..algorithm=brute, leaf_size=20, n_neighbors=10; total time=   1.0s\n",
      "[CV 1/5] END ..algorithm=brute, leaf_size=20, n_neighbors=11; total time=   1.0s\n",
      "[CV 2/5] END ..algorithm=brute, leaf_size=20, n_neighbors=11; total time=   1.0s\n",
      "[CV 3/5] END ..algorithm=brute, leaf_size=20, n_neighbors=11; total time=   1.1s\n",
      "[CV 4/5] END ..algorithm=brute, leaf_size=20, n_neighbors=11; total time=   1.0s\n",
      "[CV 5/5] END ..algorithm=brute, leaf_size=20, n_neighbors=11; total time=   1.0s\n",
      "[CV 1/5] END ..algorithm=brute, leaf_size=20, n_neighbors=12; total time=   1.1s\n",
      "[CV 2/5] END ..algorithm=brute, leaf_size=20, n_neighbors=12; total time=   1.0s\n",
      "[CV 3/5] END ..algorithm=brute, leaf_size=20, n_neighbors=12; total time=   1.1s\n",
      "[CV 4/5] END ..algorithm=brute, leaf_size=20, n_neighbors=12; total time=   1.2s\n",
      "[CV 5/5] END ..algorithm=brute, leaf_size=20, n_neighbors=12; total time=   1.0s\n",
      "[CV 1/5] END ..algorithm=brute, leaf_size=20, n_neighbors=13; total time=   1.0s\n",
      "[CV 2/5] END ..algorithm=brute, leaf_size=20, n_neighbors=13; total time=   1.0s\n",
      "[CV 3/5] END ..algorithm=brute, leaf_size=20, n_neighbors=13; total time=   1.0s\n",
      "[CV 4/5] END ..algorithm=brute, leaf_size=20, n_neighbors=13; total time=   1.1s\n",
      "[CV 5/5] END ..algorithm=brute, leaf_size=20, n_neighbors=13; total time=   1.0s\n",
      "[CV 1/5] END ...algorithm=brute, leaf_size=25, n_neighbors=3; total time=   0.8s\n",
      "[CV 2/5] END ...algorithm=brute, leaf_size=25, n_neighbors=3; total time=   0.8s\n",
      "[CV 3/5] END ...algorithm=brute, leaf_size=25, n_neighbors=3; total time=   0.8s\n",
      "[CV 4/5] END ...algorithm=brute, leaf_size=25, n_neighbors=3; total time=   0.8s\n",
      "[CV 5/5] END ...algorithm=brute, leaf_size=25, n_neighbors=3; total time=   0.8s\n",
      "[CV 1/5] END ...algorithm=brute, leaf_size=25, n_neighbors=5; total time=   1.0s\n",
      "[CV 2/5] END ...algorithm=brute, leaf_size=25, n_neighbors=5; total time=   1.0s\n",
      "[CV 3/5] END ...algorithm=brute, leaf_size=25, n_neighbors=5; total time=   1.1s\n",
      "[CV 4/5] END ...algorithm=brute, leaf_size=25, n_neighbors=5; total time=   1.2s\n",
      "[CV 5/5] END ...algorithm=brute, leaf_size=25, n_neighbors=5; total time=   1.0s\n",
      "[CV 1/5] END ...algorithm=brute, leaf_size=25, n_neighbors=7; total time=   1.0s\n",
      "[CV 2/5] END ...algorithm=brute, leaf_size=25, n_neighbors=7; total time=   1.0s\n",
      "[CV 3/5] END ...algorithm=brute, leaf_size=25, n_neighbors=7; total time=   1.0s\n",
      "[CV 4/5] END ...algorithm=brute, leaf_size=25, n_neighbors=7; total time=   1.1s\n",
      "[CV 5/5] END ...algorithm=brute, leaf_size=25, n_neighbors=7; total time=   1.0s\n",
      "[CV 1/5] END ...algorithm=brute, leaf_size=25, n_neighbors=9; total time=   1.2s\n",
      "[CV 2/5] END ...algorithm=brute, leaf_size=25, n_neighbors=9; total time=   1.1s\n",
      "[CV 3/5] END ...algorithm=brute, leaf_size=25, n_neighbors=9; total time=   1.1s\n",
      "[CV 4/5] END ...algorithm=brute, leaf_size=25, n_neighbors=9; total time=   1.1s\n",
      "[CV 5/5] END ...algorithm=brute, leaf_size=25, n_neighbors=9; total time=   1.0s\n",
      "[CV 1/5] END ..algorithm=brute, leaf_size=25, n_neighbors=10; total time=   1.1s\n",
      "[CV 2/5] END ..algorithm=brute, leaf_size=25, n_neighbors=10; total time=   1.2s\n",
      "[CV 3/5] END ..algorithm=brute, leaf_size=25, n_neighbors=10; total time=   1.1s\n",
      "[CV 4/5] END ..algorithm=brute, leaf_size=25, n_neighbors=10; total time=   1.2s\n",
      "[CV 5/5] END ..algorithm=brute, leaf_size=25, n_neighbors=10; total time=   1.1s\n",
      "[CV 1/5] END ..algorithm=brute, leaf_size=25, n_neighbors=11; total time=   1.1s\n",
      "[CV 2/5] END ..algorithm=brute, leaf_size=25, n_neighbors=11; total time=   1.1s\n",
      "[CV 3/5] END ..algorithm=brute, leaf_size=25, n_neighbors=11; total time=   1.1s\n",
      "[CV 4/5] END ..algorithm=brute, leaf_size=25, n_neighbors=11; total time=   1.2s\n",
      "[CV 5/5] END ..algorithm=brute, leaf_size=25, n_neighbors=11; total time=   1.0s\n",
      "[CV 1/5] END ..algorithm=brute, leaf_size=25, n_neighbors=12; total time=   1.2s\n",
      "[CV 2/5] END ..algorithm=brute, leaf_size=25, n_neighbors=12; total time=   1.1s\n",
      "[CV 3/5] END ..algorithm=brute, leaf_size=25, n_neighbors=12; total time=   1.1s\n",
      "[CV 4/5] END ..algorithm=brute, leaf_size=25, n_neighbors=12; total time=   1.1s\n",
      "[CV 5/5] END ..algorithm=brute, leaf_size=25, n_neighbors=12; total time=   1.2s\n",
      "[CV 1/5] END ..algorithm=brute, leaf_size=25, n_neighbors=13; total time=   1.1s\n",
      "[CV 2/5] END ..algorithm=brute, leaf_size=25, n_neighbors=13; total time=   1.0s\n",
      "[CV 3/5] END ..algorithm=brute, leaf_size=25, n_neighbors=13; total time=   1.0s\n",
      "[CV 4/5] END ..algorithm=brute, leaf_size=25, n_neighbors=13; total time=   1.1s\n",
      "[CV 5/5] END ..algorithm=brute, leaf_size=25, n_neighbors=13; total time=   1.0s\n",
      "[CV 1/5] END ...algorithm=brute, leaf_size=27, n_neighbors=3; total time=   0.8s\n",
      "[CV 2/5] END ...algorithm=brute, leaf_size=27, n_neighbors=3; total time=   0.8s\n",
      "[CV 3/5] END ...algorithm=brute, leaf_size=27, n_neighbors=3; total time=   0.8s\n",
      "[CV 4/5] END ...algorithm=brute, leaf_size=27, n_neighbors=3; total time=   0.8s\n",
      "[CV 5/5] END ...algorithm=brute, leaf_size=27, n_neighbors=3; total time=   0.8s\n",
      "[CV 1/5] END ...algorithm=brute, leaf_size=27, n_neighbors=5; total time=   1.0s\n",
      "[CV 2/5] END ...algorithm=brute, leaf_size=27, n_neighbors=5; total time=   1.1s\n",
      "[CV 3/5] END ...algorithm=brute, leaf_size=27, n_neighbors=5; total time=   1.1s\n",
      "[CV 4/5] END ...algorithm=brute, leaf_size=27, n_neighbors=5; total time=   1.1s\n",
      "[CV 5/5] END ...algorithm=brute, leaf_size=27, n_neighbors=5; total time=   1.1s\n",
      "[CV 1/5] END ...algorithm=brute, leaf_size=27, n_neighbors=7; total time=   1.0s\n",
      "[CV 2/5] END ...algorithm=brute, leaf_size=27, n_neighbors=7; total time=   1.1s\n",
      "[CV 3/5] END ...algorithm=brute, leaf_size=27, n_neighbors=7; total time=   1.1s\n",
      "[CV 4/5] END ...algorithm=brute, leaf_size=27, n_neighbors=7; total time=   1.1s\n",
      "[CV 5/5] END ...algorithm=brute, leaf_size=27, n_neighbors=7; total time=   1.0s\n",
      "[CV 1/5] END ...algorithm=brute, leaf_size=27, n_neighbors=9; total time=   1.1s\n",
      "[CV 2/5] END ...algorithm=brute, leaf_size=27, n_neighbors=9; total time=   1.0s\n",
      "[CV 3/5] END ...algorithm=brute, leaf_size=27, n_neighbors=9; total time=   1.0s\n",
      "[CV 4/5] END ...algorithm=brute, leaf_size=27, n_neighbors=9; total time=   1.1s\n",
      "[CV 5/5] END ...algorithm=brute, leaf_size=27, n_neighbors=9; total time=   1.0s\n",
      "[CV 1/5] END ..algorithm=brute, leaf_size=27, n_neighbors=10; total time=   1.1s\n",
      "[CV 2/5] END ..algorithm=brute, leaf_size=27, n_neighbors=10; total time=   1.0s\n",
      "[CV 3/5] END ..algorithm=brute, leaf_size=27, n_neighbors=10; total time=   1.1s\n",
      "[CV 4/5] END ..algorithm=brute, leaf_size=27, n_neighbors=10; total time=   1.2s\n",
      "[CV 5/5] END ..algorithm=brute, leaf_size=27, n_neighbors=10; total time=   1.0s\n",
      "[CV 1/5] END ..algorithm=brute, leaf_size=27, n_neighbors=11; total time=   1.1s\n",
      "[CV 2/5] END ..algorithm=brute, leaf_size=27, n_neighbors=11; total time=   1.1s\n"
     ]
    },
    {
     "name": "stdout",
     "output_type": "stream",
     "text": [
      "[CV 3/5] END ..algorithm=brute, leaf_size=27, n_neighbors=11; total time=   1.1s\n",
      "[CV 4/5] END ..algorithm=brute, leaf_size=27, n_neighbors=11; total time=   1.1s\n",
      "[CV 5/5] END ..algorithm=brute, leaf_size=27, n_neighbors=11; total time=   1.0s\n",
      "[CV 1/5] END ..algorithm=brute, leaf_size=27, n_neighbors=12; total time=   1.1s\n",
      "[CV 2/5] END ..algorithm=brute, leaf_size=27, n_neighbors=12; total time=   1.1s\n",
      "[CV 3/5] END ..algorithm=brute, leaf_size=27, n_neighbors=12; total time=   1.0s\n",
      "[CV 4/5] END ..algorithm=brute, leaf_size=27, n_neighbors=12; total time=   1.1s\n",
      "[CV 5/5] END ..algorithm=brute, leaf_size=27, n_neighbors=12; total time=   1.0s\n",
      "[CV 1/5] END ..algorithm=brute, leaf_size=27, n_neighbors=13; total time=   1.0s\n",
      "[CV 2/5] END ..algorithm=brute, leaf_size=27, n_neighbors=13; total time=   1.2s\n",
      "[CV 3/5] END ..algorithm=brute, leaf_size=27, n_neighbors=13; total time=   1.1s\n",
      "[CV 4/5] END ..algorithm=brute, leaf_size=27, n_neighbors=13; total time=   1.1s\n",
      "[CV 5/5] END ..algorithm=brute, leaf_size=27, n_neighbors=13; total time=   1.0s\n",
      "[CV 1/5] END ...algorithm=brute, leaf_size=30, n_neighbors=3; total time=   0.8s\n",
      "[CV 2/5] END ...algorithm=brute, leaf_size=30, n_neighbors=3; total time=   0.8s\n",
      "[CV 3/5] END ...algorithm=brute, leaf_size=30, n_neighbors=3; total time=   0.9s\n",
      "[CV 4/5] END ...algorithm=brute, leaf_size=30, n_neighbors=3; total time=   1.0s\n",
      "[CV 5/5] END ...algorithm=brute, leaf_size=30, n_neighbors=3; total time=   0.8s\n",
      "[CV 1/5] END ...algorithm=brute, leaf_size=30, n_neighbors=5; total time=   1.1s\n",
      "[CV 2/5] END ...algorithm=brute, leaf_size=30, n_neighbors=5; total time=   1.0s\n",
      "[CV 3/5] END ...algorithm=brute, leaf_size=30, n_neighbors=5; total time=   1.0s\n",
      "[CV 4/5] END ...algorithm=brute, leaf_size=30, n_neighbors=5; total time=   1.1s\n",
      "[CV 5/5] END ...algorithm=brute, leaf_size=30, n_neighbors=5; total time=   1.2s\n",
      "[CV 1/5] END ...algorithm=brute, leaf_size=30, n_neighbors=7; total time=   1.1s\n",
      "[CV 2/5] END ...algorithm=brute, leaf_size=30, n_neighbors=7; total time=   1.1s\n",
      "[CV 3/5] END ...algorithm=brute, leaf_size=30, n_neighbors=7; total time=   1.1s\n",
      "[CV 4/5] END ...algorithm=brute, leaf_size=30, n_neighbors=7; total time=   1.1s\n",
      "[CV 5/5] END ...algorithm=brute, leaf_size=30, n_neighbors=7; total time=   1.0s\n",
      "[CV 1/5] END ...algorithm=brute, leaf_size=30, n_neighbors=9; total time=   1.0s\n",
      "[CV 2/5] END ...algorithm=brute, leaf_size=30, n_neighbors=9; total time=   1.2s\n",
      "[CV 3/5] END ...algorithm=brute, leaf_size=30, n_neighbors=9; total time=   1.3s\n",
      "[CV 4/5] END ...algorithm=brute, leaf_size=30, n_neighbors=9; total time=   1.1s\n",
      "[CV 5/5] END ...algorithm=brute, leaf_size=30, n_neighbors=9; total time=   1.8s\n",
      "[CV 1/5] END ..algorithm=brute, leaf_size=30, n_neighbors=10; total time=   1.1s\n",
      "[CV 2/5] END ..algorithm=brute, leaf_size=30, n_neighbors=10; total time=   1.0s\n",
      "[CV 3/5] END ..algorithm=brute, leaf_size=30, n_neighbors=10; total time=   1.1s\n",
      "[CV 4/5] END ..algorithm=brute, leaf_size=30, n_neighbors=10; total time=   1.2s\n",
      "[CV 5/5] END ..algorithm=brute, leaf_size=30, n_neighbors=10; total time=   1.2s\n",
      "[CV 1/5] END ..algorithm=brute, leaf_size=30, n_neighbors=11; total time=   1.0s\n",
      "[CV 2/5] END ..algorithm=brute, leaf_size=30, n_neighbors=11; total time=   1.2s\n",
      "[CV 3/5] END ..algorithm=brute, leaf_size=30, n_neighbors=11; total time=   1.0s\n",
      "[CV 4/5] END ..algorithm=brute, leaf_size=30, n_neighbors=11; total time=   1.0s\n",
      "[CV 5/5] END ..algorithm=brute, leaf_size=30, n_neighbors=11; total time=   1.1s\n",
      "[CV 1/5] END ..algorithm=brute, leaf_size=30, n_neighbors=12; total time=   1.0s\n",
      "[CV 2/5] END ..algorithm=brute, leaf_size=30, n_neighbors=12; total time=   1.0s\n",
      "[CV 3/5] END ..algorithm=brute, leaf_size=30, n_neighbors=12; total time=   1.0s\n",
      "[CV 4/5] END ..algorithm=brute, leaf_size=30, n_neighbors=12; total time=   1.1s\n",
      "[CV 5/5] END ..algorithm=brute, leaf_size=30, n_neighbors=12; total time=   1.0s\n",
      "[CV 1/5] END ..algorithm=brute, leaf_size=30, n_neighbors=13; total time=   1.1s\n",
      "[CV 2/5] END ..algorithm=brute, leaf_size=30, n_neighbors=13; total time=   1.1s\n",
      "[CV 3/5] END ..algorithm=brute, leaf_size=30, n_neighbors=13; total time=   1.2s\n",
      "[CV 4/5] END ..algorithm=brute, leaf_size=30, n_neighbors=13; total time=   1.0s\n",
      "[CV 5/5] END ..algorithm=brute, leaf_size=30, n_neighbors=13; total time=   1.1s\n",
      "[CV 1/5] END ...algorithm=brute, leaf_size=32, n_neighbors=3; total time=   0.9s\n",
      "[CV 2/5] END ...algorithm=brute, leaf_size=32, n_neighbors=3; total time=   0.8s\n",
      "[CV 3/5] END ...algorithm=brute, leaf_size=32, n_neighbors=3; total time=   0.7s\n",
      "[CV 4/5] END ...algorithm=brute, leaf_size=32, n_neighbors=3; total time=   0.9s\n",
      "[CV 5/5] END ...algorithm=brute, leaf_size=32, n_neighbors=3; total time=   0.8s\n",
      "[CV 1/5] END ...algorithm=brute, leaf_size=32, n_neighbors=5; total time=   1.1s\n",
      "[CV 2/5] END ...algorithm=brute, leaf_size=32, n_neighbors=5; total time=   1.1s\n",
      "[CV 3/5] END ...algorithm=brute, leaf_size=32, n_neighbors=5; total time=   1.1s\n",
      "[CV 4/5] END ...algorithm=brute, leaf_size=32, n_neighbors=5; total time=   1.1s\n",
      "[CV 5/5] END ...algorithm=brute, leaf_size=32, n_neighbors=5; total time=   1.0s\n",
      "[CV 1/5] END ...algorithm=brute, leaf_size=32, n_neighbors=7; total time=   1.0s\n",
      "[CV 2/5] END ...algorithm=brute, leaf_size=32, n_neighbors=7; total time=   1.1s\n",
      "[CV 3/5] END ...algorithm=brute, leaf_size=32, n_neighbors=7; total time=   1.5s\n",
      "[CV 4/5] END ...algorithm=brute, leaf_size=32, n_neighbors=7; total time=   1.0s\n",
      "[CV 5/5] END ...algorithm=brute, leaf_size=32, n_neighbors=7; total time=   1.0s\n",
      "[CV 1/5] END ...algorithm=brute, leaf_size=32, n_neighbors=9; total time=   1.0s\n",
      "[CV 2/5] END ...algorithm=brute, leaf_size=32, n_neighbors=9; total time=   1.1s\n",
      "[CV 3/5] END ...algorithm=brute, leaf_size=32, n_neighbors=9; total time=   1.1s\n",
      "[CV 4/5] END ...algorithm=brute, leaf_size=32, n_neighbors=9; total time=   1.1s\n",
      "[CV 5/5] END ...algorithm=brute, leaf_size=32, n_neighbors=9; total time=   1.1s\n",
      "[CV 1/5] END ..algorithm=brute, leaf_size=32, n_neighbors=10; total time=   1.0s\n",
      "[CV 2/5] END ..algorithm=brute, leaf_size=32, n_neighbors=10; total time=   1.0s\n",
      "[CV 3/5] END ..algorithm=brute, leaf_size=32, n_neighbors=10; total time=   1.1s\n",
      "[CV 4/5] END ..algorithm=brute, leaf_size=32, n_neighbors=10; total time=   1.2s\n",
      "[CV 5/5] END ..algorithm=brute, leaf_size=32, n_neighbors=10; total time=   1.0s\n",
      "[CV 1/5] END ..algorithm=brute, leaf_size=32, n_neighbors=11; total time=   1.2s\n",
      "[CV 2/5] END ..algorithm=brute, leaf_size=32, n_neighbors=11; total time=   1.0s\n",
      "[CV 3/5] END ..algorithm=brute, leaf_size=32, n_neighbors=11; total time=   1.0s\n",
      "[CV 4/5] END ..algorithm=brute, leaf_size=32, n_neighbors=11; total time=   1.0s\n",
      "[CV 5/5] END ..algorithm=brute, leaf_size=32, n_neighbors=11; total time=   1.0s\n",
      "[CV 1/5] END ..algorithm=brute, leaf_size=32, n_neighbors=12; total time=   1.1s\n",
      "[CV 2/5] END ..algorithm=brute, leaf_size=32, n_neighbors=12; total time=   1.0s\n",
      "[CV 3/5] END ..algorithm=brute, leaf_size=32, n_neighbors=12; total time=   1.0s\n",
      "[CV 4/5] END ..algorithm=brute, leaf_size=32, n_neighbors=12; total time=   1.0s\n",
      "[CV 5/5] END ..algorithm=brute, leaf_size=32, n_neighbors=12; total time=   1.0s\n",
      "[CV 1/5] END ..algorithm=brute, leaf_size=32, n_neighbors=13; total time=   1.0s\n",
      "[CV 2/5] END ..algorithm=brute, leaf_size=32, n_neighbors=13; total time=   1.0s\n",
      "[CV 3/5] END ..algorithm=brute, leaf_size=32, n_neighbors=13; total time=   1.1s\n",
      "[CV 4/5] END ..algorithm=brute, leaf_size=32, n_neighbors=13; total time=   1.1s\n",
      "[CV 5/5] END ..algorithm=brute, leaf_size=32, n_neighbors=13; total time=   1.1s\n",
      "[CV 1/5] END ...algorithm=brute, leaf_size=34, n_neighbors=3; total time=   0.8s\n",
      "[CV 2/5] END ...algorithm=brute, leaf_size=34, n_neighbors=3; total time=   0.7s\n",
      "[CV 3/5] END ...algorithm=brute, leaf_size=34, n_neighbors=3; total time=   0.8s\n",
      "[CV 4/5] END ...algorithm=brute, leaf_size=34, n_neighbors=3; total time=   0.8s\n",
      "[CV 5/5] END ...algorithm=brute, leaf_size=34, n_neighbors=3; total time=   0.8s\n",
      "[CV 1/5] END ...algorithm=brute, leaf_size=34, n_neighbors=5; total time=   1.0s\n",
      "[CV 2/5] END ...algorithm=brute, leaf_size=34, n_neighbors=5; total time=   1.0s\n",
      "[CV 3/5] END ...algorithm=brute, leaf_size=34, n_neighbors=5; total time=   1.2s\n",
      "[CV 4/5] END ...algorithm=brute, leaf_size=34, n_neighbors=5; total time=   1.1s\n"
     ]
    },
    {
     "name": "stdout",
     "output_type": "stream",
     "text": [
      "[CV 5/5] END ...algorithm=brute, leaf_size=34, n_neighbors=5; total time=   1.0s\n",
      "[CV 1/5] END ...algorithm=brute, leaf_size=34, n_neighbors=7; total time=   1.0s\n",
      "[CV 2/5] END ...algorithm=brute, leaf_size=34, n_neighbors=7; total time=   1.0s\n",
      "[CV 3/5] END ...algorithm=brute, leaf_size=34, n_neighbors=7; total time=   1.1s\n",
      "[CV 4/5] END ...algorithm=brute, leaf_size=34, n_neighbors=7; total time=   1.1s\n",
      "[CV 5/5] END ...algorithm=brute, leaf_size=34, n_neighbors=7; total time=   1.2s\n",
      "[CV 1/5] END ...algorithm=brute, leaf_size=34, n_neighbors=9; total time=   1.0s\n",
      "[CV 2/5] END ...algorithm=brute, leaf_size=34, n_neighbors=9; total time=   1.0s\n",
      "[CV 3/5] END ...algorithm=brute, leaf_size=34, n_neighbors=9; total time=   1.0s\n",
      "[CV 4/5] END ...algorithm=brute, leaf_size=34, n_neighbors=9; total time=   1.0s\n",
      "[CV 5/5] END ...algorithm=brute, leaf_size=34, n_neighbors=9; total time=   1.0s\n",
      "[CV 1/5] END ..algorithm=brute, leaf_size=34, n_neighbors=10; total time=   1.0s\n",
      "[CV 2/5] END ..algorithm=brute, leaf_size=34, n_neighbors=10; total time=   1.1s\n",
      "[CV 3/5] END ..algorithm=brute, leaf_size=34, n_neighbors=10; total time=   1.1s\n",
      "[CV 4/5] END ..algorithm=brute, leaf_size=34, n_neighbors=10; total time=   1.1s\n",
      "[CV 5/5] END ..algorithm=brute, leaf_size=34, n_neighbors=10; total time=   1.0s\n",
      "[CV 1/5] END ..algorithm=brute, leaf_size=34, n_neighbors=11; total time=   1.1s\n",
      "[CV 2/5] END ..algorithm=brute, leaf_size=34, n_neighbors=11; total time=   1.0s\n",
      "[CV 3/5] END ..algorithm=brute, leaf_size=34, n_neighbors=11; total time=   1.0s\n",
      "[CV 4/5] END ..algorithm=brute, leaf_size=34, n_neighbors=11; total time=   1.2s\n",
      "[CV 5/5] END ..algorithm=brute, leaf_size=34, n_neighbors=11; total time=   1.0s\n",
      "[CV 1/5] END ..algorithm=brute, leaf_size=34, n_neighbors=12; total time=   1.0s\n",
      "[CV 2/5] END ..algorithm=brute, leaf_size=34, n_neighbors=12; total time=   1.1s\n",
      "[CV 3/5] END ..algorithm=brute, leaf_size=34, n_neighbors=12; total time=   1.1s\n",
      "[CV 4/5] END ..algorithm=brute, leaf_size=34, n_neighbors=12; total time=   1.1s\n",
      "[CV 5/5] END ..algorithm=brute, leaf_size=34, n_neighbors=12; total time=   1.0s\n",
      "[CV 1/5] END ..algorithm=brute, leaf_size=34, n_neighbors=13; total time=   1.0s\n",
      "[CV 2/5] END ..algorithm=brute, leaf_size=34, n_neighbors=13; total time=   1.0s\n",
      "[CV 3/5] END ..algorithm=brute, leaf_size=34, n_neighbors=13; total time=   1.0s\n",
      "[CV 4/5] END ..algorithm=brute, leaf_size=34, n_neighbors=13; total time=   1.1s\n",
      "[CV 5/5] END ..algorithm=brute, leaf_size=34, n_neighbors=13; total time=   1.1s\n"
     ]
    },
    {
     "data": {
      "text/plain": [
       "{'algorithm': 'ball_tree', 'leaf_size': 18, 'n_neighbors': 13}"
      ]
     },
     "execution_count": 95,
     "metadata": {},
     "output_type": "execute_result"
    }
   ],
   "source": [
    "knn1 = GridSearchCV(knn,grid_knn,verbose = 3)\n",
    "knn1.fit(X_train,y_train)\n",
    "knn1.best_params_"
   ]
  },
  {
   "cell_type": "code",
   "execution_count": 96,
   "metadata": {},
   "outputs": [
    {
     "data": {
      "text/plain": [
       "KNeighborsRegressor(algorithm='ball_tree', leaf_size=18, n_neighbors=13)"
      ]
     },
     "execution_count": 96,
     "metadata": {},
     "output_type": "execute_result"
    }
   ],
   "source": [
    "knn1 = KNeighborsRegressor(algorithm = 'ball_tree',leaf_size = 18, n_neighbors = 13)\n",
    "knn1.fit(X_train,y_train)"
   ]
  },
  {
   "cell_type": "code",
   "execution_count": 97,
   "metadata": {},
   "outputs": [
    {
     "name": "stdout",
     "output_type": "stream",
     "text": [
      "0.7345473788580623\n",
      "0.6986890437349453\n"
     ]
    }
   ],
   "source": [
    "print(knn1.score(X_train,y_train))\n",
    "print(knn1.score(X_test,y_test))"
   ]
  },
  {
   "cell_type": "markdown",
   "metadata": {},
   "source": [
    "# Stacking"
   ]
  },
  {
   "cell_type": "code",
   "execution_count": 103,
   "metadata": {},
   "outputs": [],
   "source": [
    "train,val_train,test,val_test = train_test_split(X,y, test_size = 0.5,random_state = 265)"
   ]
  },
  {
   "cell_type": "code",
   "execution_count": 104,
   "metadata": {},
   "outputs": [],
   "source": [
    "x_train1,x_test1,y_train1,y_test1 = train_test_split(train,test,test_size = 0.2,random_state = 265)"
   ]
  },
  {
   "cell_type": "code",
   "execution_count": 105,
   "metadata": {},
   "outputs": [
    {
     "data": {
      "text/plain": [
       "DecisionTreeRegressor(random_state=1996)"
      ]
     },
     "execution_count": 105,
     "metadata": {},
     "output_type": "execute_result"
    }
   ],
   "source": [
    "### Linear Regression model\n",
    "lr.fit(x_train1,y_train1)\n",
    "\n",
    "\n",
    "### Decision Tree model\n",
    "dt.fit(x_train1,y_train1)"
   ]
  },
  {
   "cell_type": "code",
   "execution_count": 106,
   "metadata": {},
   "outputs": [
    {
     "data": {
      "text/plain": [
       "array([[253680.79446612, 417900.        ],\n",
       "       [332123.04515539, 410000.        ],\n",
       "       [186924.0929882 , 260700.        ],\n",
       "       ...,\n",
       "       [ 92932.2827862 , 170700.        ],\n",
       "       [215304.39450367, 135800.        ],\n",
       "       [149049.01835226,  75000.        ]])"
      ]
     },
     "execution_count": 106,
     "metadata": {},
     "output_type": "execute_result"
    }
   ],
   "source": [
    "predicted_val1 = lr.predict(val_train)\n",
    "predicted_val2 = dt.predict(val_train)\n",
    "\n",
    "\n",
    "predict_val = np.column_stack((predicted_val1,predicted_val2))\n",
    "predict_val"
   ]
  },
  {
   "cell_type": "code",
   "execution_count": 107,
   "metadata": {},
   "outputs": [
    {
     "data": {
      "text/plain": [
       "array([[143543.4342366 ,  68500.        ],\n",
       "       [242953.22633337, 183800.        ],\n",
       "       [ 40725.70522865,  68300.        ],\n",
       "       ...,\n",
       "       [101918.65044633, 208300.        ],\n",
       "       [130627.68153495,  71800.        ],\n",
       "       [177951.94686027, 350000.        ]])"
      ]
     },
     "execution_count": 107,
     "metadata": {},
     "output_type": "execute_result"
    }
   ],
   "source": [
    "predicted_test1 = lr.predict(x_test1)\n",
    "predicted_test2 = dt.predict(x_test1)\n",
    "\n",
    "\n",
    "predict_test = np.column_stack((predicted_test1,predicted_test2))\n",
    "predict_test"
   ]
  },
  {
   "cell_type": "code",
   "execution_count": 108,
   "metadata": {},
   "outputs": [
    {
     "name": "stdout",
     "output_type": "stream",
     "text": [
      "0.946538695947223\n",
      "0.6151903028754167\n"
     ]
    }
   ],
   "source": [
    "## Random Forest Model\n",
    "rand_reg = RandomForestRegressor()\n",
    "rand_reg.fit(predict_val,val_test)\n",
    "print(rand_reg.score(predict_val,val_test))\n",
    "print(rand_reg.score(predict_test,y_test1))"
   ]
  },
  {
   "cell_type": "markdown",
   "metadata": {},
   "source": [
    "###########################################################################################################################"
   ]
  },
  {
   "cell_type": "code",
   "execution_count": 109,
   "metadata": {},
   "outputs": [
    {
     "name": "stdout",
     "output_type": "stream",
     "text": [
      "KNeighborsRegressor(algorithm='ball_tree', leaf_size=18, n_neighbors=13)\n",
      "RandomForestRegressor()\n"
     ]
    }
   ],
   "source": [
    "### Linear Regression model\n",
    "print(knn1.fit(x_train1,y_train1))\n",
    "\n",
    "\n",
    "### Decision Tree model\n",
    "print(rand_reg.fit(x_train1,y_train1))"
   ]
  },
  {
   "cell_type": "code",
   "execution_count": 110,
   "metadata": {},
   "outputs": [
    {
     "data": {
      "text/plain": [
       "array([[262377.15384615, 264499.07      ],\n",
       "       [190546.15384615, 364119.08      ],\n",
       "       [208715.38461538, 154710.        ],\n",
       "       ...,\n",
       "       [191007.69230769, 110793.        ],\n",
       "       [256561.53846154, 181404.01      ],\n",
       "       [251200.15384615, 104645.        ]])"
      ]
     },
     "execution_count": 110,
     "metadata": {},
     "output_type": "execute_result"
    }
   ],
   "source": [
    "predicted_val11 = knn1.predict(val_train)\n",
    "predicted_val21= rand_reg.predict(val_train)\n",
    "\n",
    "\n",
    "predict_val1 = np.column_stack((predicted_val11,predicted_val21))\n",
    "predict_val1"
   ]
  },
  {
   "cell_type": "code",
   "execution_count": 111,
   "metadata": {},
   "outputs": [
    {
     "data": {
      "text/plain": [
       "array([[281654.        , 113997.        ],\n",
       "       [138584.61538462, 200660.        ],\n",
       "       [231684.69230769,  70246.        ],\n",
       "       ...,\n",
       "       [185961.61538462, 162416.        ],\n",
       "       [240707.69230769, 117097.        ],\n",
       "       [199661.61538462, 192881.01      ]])"
      ]
     },
     "execution_count": 111,
     "metadata": {},
     "output_type": "execute_result"
    }
   ],
   "source": [
    "predicted_test11 = knn1.predict(x_test1)\n",
    "predicted_test21 = rand_reg.predict(x_test1)\n",
    "\n",
    "\n",
    "predict_test1 = np.column_stack((predicted_test11,predicted_test21))\n",
    "predict_test1"
   ]
  },
  {
   "cell_type": "code",
   "execution_count": 112,
   "metadata": {},
   "outputs": [
    {
     "name": "stdout",
     "output_type": "stream",
     "text": [
      "0.33252220777469066\n",
      "0.36725800831824573\n"
     ]
    }
   ],
   "source": [
    "xg1 = XGBRegressor()\n",
    "xg1.fit(predict_val,val_test)\n",
    "print(xg1.score(predict_val1,val_test))\n",
    "print(xg1.score(predict_test1,y_test1))"
   ]
  },
  {
   "cell_type": "markdown",
   "metadata": {},
   "source": [
    "###########################################################################################################################"
   ]
  },
  {
   "cell_type": "code",
   "execution_count": 113,
   "metadata": {},
   "outputs": [
    {
     "name": "stdout",
     "output_type": "stream",
     "text": [
      "GradientBoostingRegressor(learning_rate=0.5, random_state=1996)\n",
      "AdaBoostRegressor(learning_rate=0.01)\n"
     ]
    }
   ],
   "source": [
    "### Linear Regression model\n",
    "print(gbr1.fit(x_train1,y_train1))\n",
    "\n",
    "\n",
    "### Decision Tree model\n",
    "print(ada1.fit(x_train1,y_train1))"
   ]
  },
  {
   "cell_type": "code",
   "execution_count": 114,
   "metadata": {},
   "outputs": [
    {
     "data": {
      "text/plain": [
       "array([[267294.88111112, 185949.88670166],\n",
       "       [330987.93277762, 306514.29161604],\n",
       "       [161376.59924769, 175707.12485549],\n",
       "       ...,\n",
       "       [108097.21357758, 137306.19174549],\n",
       "       [154813.55226826, 232494.83290011],\n",
       "       [159878.29240546, 175707.12485549]])"
      ]
     },
     "execution_count": 114,
     "metadata": {},
     "output_type": "execute_result"
    }
   ],
   "source": [
    "predicted_val21 = gbr1.predict(val_train)\n",
    "predicted_val22 = ada1.predict(val_train)\n",
    "\n",
    "\n",
    "predict_val3 = np.column_stack((predicted_val21,predicted_val22))\n",
    "predict_val3"
   ]
  },
  {
   "cell_type": "code",
   "execution_count": 115,
   "metadata": {},
   "outputs": [
    {
     "data": {
      "text/plain": [
       "array([[123736.40467843, 139214.48708487],\n",
       "       [198347.97200609, 240767.65811623],\n",
       "       [ -8669.29158302,  92178.54491463],\n",
       "       ...,\n",
       "       [161016.25812045, 139657.1833785 ],\n",
       "       [109068.57037333, 140784.63701707],\n",
       "       [188166.19612678, 175707.12485549]])"
      ]
     },
     "execution_count": 115,
     "metadata": {},
     "output_type": "execute_result"
    }
   ],
   "source": [
    "predicted_test21 = gbr1.predict(x_test1)\n",
    "predicted_test22 = ada1.predict(x_test1)\n",
    "\n",
    "\n",
    "predict_test3 = np.column_stack((predicted_test21,predicted_test22))\n",
    "predict_test3"
   ]
  },
  {
   "cell_type": "code",
   "execution_count": 116,
   "metadata": {},
   "outputs": [
    {
     "name": "stdout",
     "output_type": "stream",
     "text": [
      "0.8107216211124059\n",
      "0.6982645682400026\n"
     ]
    }
   ],
   "source": [
    "xg1 = XGBRegressor()\n",
    "xg1.fit(predict_val3,val_test)\n",
    "print(xg1.score(predict_val3,val_test))\n",
    "print(xg1.score(predict_test3,y_test1))"
   ]
  },
  {
   "cell_type": "code",
   "execution_count": 117,
   "metadata": {},
   "outputs": [
    {
     "name": "stdout",
     "output_type": "stream",
     "text": [
      "KNeighborsRegressor()\n",
      "XGBRegressor(base_score=0.5, booster='gbtree', colsample_bylevel=1,\n",
      "             colsample_bynode=1, colsample_bytree=1, gamma=0, gpu_id=-1,\n",
      "             importance_type='gain', interaction_constraints='',\n",
      "             learning_rate=0.300000012, max_delta_step=0, max_depth=6,\n",
      "             min_child_weight=1, missing=nan, monotone_constraints='()',\n",
      "             n_estimators=100, n_jobs=4, num_parallel_tree=1, random_state=1996,\n",
      "             reg_alpha=0, reg_lambda=1, scale_pos_weight=1, subsample=1,\n",
      "             tree_method='exact', validate_parameters=1, verbosity=None)\n"
     ]
    }
   ],
   "source": [
    "### Linear Regression model\n",
    "print(knn.fit(x_train1,y_train1))\n",
    "\n",
    "\n",
    "### Decision Tree model\n",
    "print(xg.fit(x_train1,y_train1))"
   ]
  },
  {
   "cell_type": "code",
   "execution_count": 118,
   "metadata": {},
   "outputs": [
    {
     "data": {
      "text/plain": [
       "array([[259540.4      , 272125.15625  ],\n",
       "       [170980.       , 330819.09375  ],\n",
       "       [144100.       , 177093.859375 ],\n",
       "       ...,\n",
       "       [194520.       , 105606.1953125],\n",
       "       [212400.       , 161669.671875 ],\n",
       "       [258580.2      , 170077.3125   ]])"
      ]
     },
     "execution_count": 118,
     "metadata": {},
     "output_type": "execute_result"
    }
   ],
   "source": [
    "predicted_val31 = knn.predict(val_train)\n",
    "predicted_val32 = xg.predict(val_train)\n",
    "\n",
    "\n",
    "predict_val4 = np.column_stack((predicted_val31,predicted_val32))\n",
    "predict_val4"
   ]
  },
  {
   "cell_type": "code",
   "execution_count": 119,
   "metadata": {},
   "outputs": [
    {
     "data": {
      "text/plain": [
       "array([[247720.       , 113844.328125 ],\n",
       "       [144760.       , 192760.734375 ],\n",
       "       [244800.2      ,  38766.8125   ],\n",
       "       ...,\n",
       "       [249640.2      , 181798.90625  ],\n",
       "       [225080.       , 116828.7265625],\n",
       "       [149140.       , 160628.109375 ]])"
      ]
     },
     "execution_count": 119,
     "metadata": {},
     "output_type": "execute_result"
    }
   ],
   "source": [
    "predicted_test31 = knn.predict(x_test1)\n",
    "predicted_test32 = xg.predict(x_test1)\n",
    "\n",
    "\n",
    "predict_test4 = np.column_stack((predicted_test31,predicted_test32))\n",
    "predict_test4"
   ]
  },
  {
   "cell_type": "code",
   "execution_count": 120,
   "metadata": {},
   "outputs": [
    {
     "name": "stdout",
     "output_type": "stream",
     "text": [
      "0.9508680261655668\n",
      "0.6688269139525542\n"
     ]
    }
   ],
   "source": [
    "rf_1 = RandomForestRegressor()\n",
    "rf_1.fit(predict_val4,val_test)\n",
    "print(rf_1.score(predict_val4,val_test))\n",
    "print(rf_1.score(predict_test4,y_test1))"
   ]
  },
  {
   "cell_type": "code",
   "execution_count": 121,
   "metadata": {},
   "outputs": [
    {
     "data": {
      "text/plain": [
       "array([[253680.79446612, 417900.        , 262377.15384615,\n",
       "        267294.88111112, 267294.88111112, 185949.88670166],\n",
       "       [332123.04515539, 410000.        , 190546.15384615,\n",
       "        330987.93277762, 330987.93277762, 306514.29161604],\n",
       "       [186924.0929882 , 260700.        , 208715.38461538,\n",
       "        161376.59924769, 161376.59924769, 175707.12485549],\n",
       "       ...,\n",
       "       [ 92932.2827862 , 170700.        , 191007.69230769,\n",
       "        108097.21357758, 108097.21357758, 137306.19174549],\n",
       "       [215304.39450367, 135800.        , 256561.53846154,\n",
       "        154813.55226826, 154813.55226826, 232494.83290011],\n",
       "       [149049.01835226,  75000.        , 251200.15384615,\n",
       "        159878.29240546, 159878.29240546, 175707.12485549]])"
      ]
     },
     "execution_count": 121,
     "metadata": {},
     "output_type": "execute_result"
    }
   ],
   "source": [
    "predict_val5 = np.column_stack((predicted_val1,predicted_val2,\n",
    "                                  predicted_val11,predicted_val21,\n",
    "                                  predicted_val21,predicted_val22))\n",
    "predict_val5"
   ]
  },
  {
   "cell_type": "code",
   "execution_count": 122,
   "metadata": {},
   "outputs": [
    {
     "data": {
      "text/plain": [
       "array([[143543.4342366 ,  68500.        , 281654.        ,\n",
       "        123736.40467843, 123736.40467843, 139214.48708487],\n",
       "       [242953.22633337, 183800.        , 138584.61538462,\n",
       "        198347.97200609, 198347.97200609, 240767.65811623],\n",
       "       [ 40725.70522865,  68300.        , 231684.69230769,\n",
       "         -8669.29158302,  -8669.29158302,  92178.54491463],\n",
       "       ...,\n",
       "       [101918.65044633, 208300.        , 185961.61538462,\n",
       "        161016.25812045, 161016.25812045, 139657.1833785 ],\n",
       "       [130627.68153495,  71800.        , 240707.69230769,\n",
       "        109068.57037333, 109068.57037333, 140784.63701707],\n",
       "       [177951.94686027, 350000.        , 199661.61538462,\n",
       "        188166.19612678, 188166.19612678, 175707.12485549]])"
      ]
     },
     "execution_count": 122,
     "metadata": {},
     "output_type": "execute_result"
    }
   ],
   "source": [
    "predict_test5 = np.column_stack((predicted_test1,predicted_test2,\n",
    "                                  predicted_test11,predicted_test21,\n",
    "                                  predicted_test21,predicted_test22\n",
    "                                ))\n",
    "predict_test5"
   ]
  },
  {
   "cell_type": "code",
   "execution_count": 123,
   "metadata": {},
   "outputs": [
    {
     "name": "stdout",
     "output_type": "stream",
     "text": [
      "0.9567370641403263\n",
      "0.7076211669392586\n"
     ]
    }
   ],
   "source": [
    "rf_2 = RandomForestRegressor()\n",
    "rf_2.fit(predict_val5,val_test)\n",
    "print(rf_2.score(predict_val5,val_test))\n",
    "print(rf_2.score(predict_test5,y_test1))"
   ]
  },
  {
   "cell_type": "markdown",
   "metadata": {},
   "source": [
    "###### Conclusion: Gradient Boosting model has been well trained over the data as compare to other models."
   ]
  }
 ],
 "metadata": {
  "kernelspec": {
   "display_name": "Python 3",
   "language": "python",
   "name": "python3"
  },
  "language_info": {
   "codemirror_mode": {
    "name": "ipython",
    "version": 3
   },
   "file_extension": ".py",
   "mimetype": "text/x-python",
   "name": "python",
   "nbconvert_exporter": "python",
   "pygments_lexer": "ipython3",
   "version": "3.9.4"
  }
 },
 "nbformat": 4,
 "nbformat_minor": 4
}
